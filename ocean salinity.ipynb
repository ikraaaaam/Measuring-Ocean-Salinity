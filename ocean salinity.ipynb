{
 "cells": [
  {
   "cell_type": "markdown",
   "metadata": {},
   "source": [
    "# Importing Necessary libraries"
   ]
  },
  {
   "cell_type": "code",
   "execution_count": 1,
   "metadata": {},
   "outputs": [
    {
     "name": "stdout",
     "output_type": "stream",
     "text": [
      "Requirement already satisfied: pandas_profiling in c:\\users\\user\\anaconda3\\lib\\site-packages (3.0.0)\n",
      "Requirement already satisfied: tqdm>=4.48.2 in c:\\users\\user\\anaconda3\\lib\\site-packages (from pandas_profiling) (4.50.2)\n",
      "Requirement already satisfied: joblib in c:\\users\\user\\anaconda3\\lib\\site-packages (from pandas_profiling) (0.17.0)\n",
      "Requirement already satisfied: htmlmin>=0.1.12 in c:\\users\\user\\anaconda3\\lib\\site-packages (from pandas_profiling) (0.1.12)\n",
      "Requirement already satisfied: requests>=2.24.0 in c:\\users\\user\\anaconda3\\lib\\site-packages (from pandas_profiling) (2.24.0)\n",
      "Requirement already satisfied: matplotlib>=3.2.0 in c:\\users\\user\\anaconda3\\lib\\site-packages (from pandas_profiling) (3.3.2)\n",
      "Requirement already satisfied: pandas!=1.0.0,!=1.0.1,!=1.0.2,!=1.1.0,>=0.25.3 in c:\\users\\user\\anaconda3\\lib\\site-packages (from pandas_profiling) (1.1.3)\n",
      "Requirement already satisfied: seaborn>=0.10.1 in c:\\users\\user\\anaconda3\\lib\\site-packages (from pandas_profiling) (0.11.0)\n",
      "Requirement already satisfied: visions[type_image_path]==0.7.1 in c:\\users\\user\\anaconda3\\lib\\site-packages (from pandas_profiling) (0.7.1)\n",
      "Requirement already satisfied: numpy>=1.16.0 in c:\\users\\user\\anaconda3\\lib\\site-packages (from pandas_profiling) (1.19.2)\n",
      "Requirement already satisfied: phik>=0.11.1 in c:\\users\\user\\anaconda3\\lib\\site-packages (from pandas_profiling) (0.11.2)\n",
      "Requirement already satisfied: pydantic>=1.8.1 in c:\\users\\user\\anaconda3\\lib\\site-packages (from pandas_profiling) (1.8.2)\n",
      "Requirement already satisfied: scipy>=1.4.1 in c:\\users\\user\\anaconda3\\lib\\site-packages (from pandas_profiling) (1.5.2)\n",
      "Requirement already satisfied: PyYAML>=5.0.0 in c:\\users\\user\\anaconda3\\lib\\site-packages (from pandas_profiling) (5.3.1)\n",
      "Requirement already satisfied: jinja2>=2.11.1 in c:\\users\\user\\anaconda3\\lib\\site-packages (from pandas_profiling) (2.11.2)\n",
      "Requirement already satisfied: tangled-up-in-unicode==0.1.0 in c:\\users\\user\\anaconda3\\lib\\site-packages (from pandas_profiling) (0.1.0)\n",
      "Requirement already satisfied: missingno>=0.4.2 in c:\\users\\user\\anaconda3\\lib\\site-packages (from pandas_profiling) (0.5.0)\n",
      "Requirement already satisfied: chardet<4,>=3.0.2 in c:\\users\\user\\anaconda3\\lib\\site-packages (from requests>=2.24.0->pandas_profiling) (3.0.4)\n",
      "Requirement already satisfied: urllib3!=1.25.0,!=1.25.1,<1.26,>=1.21.1 in c:\\users\\user\\anaconda3\\lib\\site-packages (from requests>=2.24.0->pandas_profiling) (1.25.11)\n",
      "Requirement already satisfied: certifi>=2017.4.17 in c:\\users\\user\\anaconda3\\lib\\site-packages (from requests>=2.24.0->pandas_profiling) (2021.5.30)\n",
      "Requirement already satisfied: idna<3,>=2.5 in c:\\users\\user\\anaconda3\\lib\\site-packages (from requests>=2.24.0->pandas_profiling) (2.10)\n",
      "Requirement already satisfied: kiwisolver>=1.0.1 in c:\\users\\user\\anaconda3\\lib\\site-packages (from matplotlib>=3.2.0->pandas_profiling) (1.3.0)\n",
      "Requirement already satisfied: pillow>=6.2.0 in c:\\users\\user\\anaconda3\\lib\\site-packages (from matplotlib>=3.2.0->pandas_profiling) (8.0.1)\n",
      "Requirement already satisfied: python-dateutil>=2.1 in c:\\users\\user\\anaconda3\\lib\\site-packages (from matplotlib>=3.2.0->pandas_profiling) (2.8.1)\n",
      "Requirement already satisfied: pyparsing!=2.0.4,!=2.1.2,!=2.1.6,>=2.0.3 in c:\\users\\user\\anaconda3\\lib\\site-packages (from matplotlib>=3.2.0->pandas_profiling) (2.4.7)\n",
      "Requirement already satisfied: cycler>=0.10 in c:\\users\\user\\anaconda3\\lib\\site-packages (from matplotlib>=3.2.0->pandas_profiling) (0.10.0)\n",
      "Requirement already satisfied: pytz>=2017.2 in c:\\users\\user\\anaconda3\\lib\\site-packages (from pandas!=1.0.0,!=1.0.1,!=1.0.2,!=1.1.0,>=0.25.3->pandas_profiling) (2020.1)\n",
      "Requirement already satisfied: attrs>=19.3.0 in c:\\users\\user\\anaconda3\\lib\\site-packages (from visions[type_image_path]==0.7.1->pandas_profiling) (20.3.0)\n",
      "Requirement already satisfied: bottleneck in c:\\users\\user\\anaconda3\\lib\\site-packages (from visions[type_image_path]==0.7.1->pandas_profiling) (1.3.2)\n",
      "Requirement already satisfied: multimethod==1.4 in c:\\users\\user\\anaconda3\\lib\\site-packages (from visions[type_image_path]==0.7.1->pandas_profiling) (1.4)\n",
      "Requirement already satisfied: networkx>=2.4 in c:\\users\\user\\anaconda3\\lib\\site-packages (from visions[type_image_path]==0.7.1->pandas_profiling) (2.5)\n",
      "Requirement already satisfied: imagehash; extra == \"type_image_path\" in c:\\users\\user\\anaconda3\\lib\\site-packages (from visions[type_image_path]==0.7.1->pandas_profiling) (4.2.0)\n",
      "Requirement already satisfied: typing-extensions>=3.7.4.3 in c:\\users\\user\\anaconda3\\lib\\site-packages (from pydantic>=1.8.1->pandas_profiling) (3.7.4.3)\n",
      "Requirement already satisfied: MarkupSafe>=0.23 in c:\\users\\user\\anaconda3\\lib\\site-packages (from jinja2>=2.11.1->pandas_profiling) (1.1.1)\n",
      "Requirement already satisfied: six>=1.5 in c:\\users\\user\\anaconda3\\lib\\site-packages (from python-dateutil>=2.1->matplotlib>=3.2.0->pandas_profiling) (1.15.0)\n",
      "Requirement already satisfied: decorator>=4.3.0 in c:\\users\\user\\anaconda3\\lib\\site-packages (from networkx>=2.4->visions[type_image_path]==0.7.1->pandas_profiling) (4.4.2)\n",
      "Requirement already satisfied: PyWavelets in c:\\users\\user\\anaconda3\\lib\\site-packages (from imagehash; extra == \"type_image_path\"->visions[type_image_path]==0.7.1->pandas_profiling) (1.1.1)\n"
     ]
    }
   ],
   "source": [
    "import numpy as np\n",
    "import pandas as pd\n",
    "!pip install pandas_profiling\n",
    "from pandas_profiling import ProfileReport\n",
    "import seaborn as sns\n",
    "import matplotlib.pyplot as plt\n",
    "from sklearn.preprocessing import LabelEncoder, OneHotEncoder\n",
    "import warnings\n",
    "warnings.filterwarnings(\"ignore\")\n",
    "from sklearn.model_selection import train_test_split\n",
    "from sklearn.svm import SVC\n",
    "from sklearn.metrics import confusion_matrix\n",
    "np.random.seed(123)"
   ]
  },
  {
   "cell_type": "code",
   "execution_count": 2,
   "metadata": {},
   "outputs": [],
   "source": [
    "df=pd.read_csv(r'C:\\Users\\USER\\ML Notebooks\\final projects\\ocean salinity\\ocean.csv')"
   ]
  },
  {
   "cell_type": "markdown",
   "metadata": {},
   "source": [
    "# Exploratory Data Analysis"
   ]
  },
  {
   "cell_type": "code",
   "execution_count": 3,
   "metadata": {},
   "outputs": [],
   "source": [
    "#creating the simple report quickly\n",
    "profile= ProfileReport(df,title='Pandas Profiling Report',explorative=True)"
   ]
  },
  {
   "cell_type": "code",
   "execution_count": 4,
   "metadata": {},
   "outputs": [
    {
     "data": {
      "application/vnd.jupyter.widget-view+json": {
       "model_id": "55327f0d82c24512a3bdca5c587fd0d3",
       "version_major": 2,
       "version_minor": 0
      },
      "text/plain": [
       "HBox(children=(HTML(value='Summarize dataset'), FloatProgress(value=0.0, max=87.0), HTML(value='')))"
      ]
     },
     "metadata": {},
     "output_type": "display_data"
    },
    {
     "name": "stdout",
     "output_type": "stream",
     "text": [
      "\n"
     ]
    },
    {
     "data": {
      "application/vnd.jupyter.widget-view+json": {
       "model_id": "f686eb9e3dc34f7bb1d39e718f43b001",
       "version_major": 2,
       "version_minor": 0
      },
      "text/plain": [
       "HBox(children=(HTML(value='Generate report structure'), FloatProgress(value=0.0, max=1.0), HTML(value='')))"
      ]
     },
     "metadata": {},
     "output_type": "display_data"
    },
    {
     "name": "stdout",
     "output_type": "stream",
     "text": [
      "\n"
     ]
    },
    {
     "data": {
      "application/vnd.jupyter.widget-view+json": {
       "model_id": "",
       "version_major": 2,
       "version_minor": 0
      },
      "text/plain": [
       "HBox(children=(HTML(value='Render widgets'), FloatProgress(value=0.0, max=1.0), HTML(value='')))"
      ]
     },
     "metadata": {},
     "output_type": "display_data"
    },
    {
     "data": {
      "application/vnd.jupyter.widget-view+json": {
       "model_id": "9bae18c802734d5cb81ff3ba6e65f293",
       "version_major": 2,
       "version_minor": 0
      },
      "text/plain": [
       "VBox(children=(Tab(children=(Tab(children=(GridBox(children=(VBox(children=(GridspecLayout(children=(HTML(valu…"
      ]
     },
     "metadata": {},
     "output_type": "display_data"
    }
   ],
   "source": [
    "profile.to_widgets()"
   ]
  },
  {
   "cell_type": "code",
   "execution_count": 6,
   "metadata": {},
   "outputs": [
    {
     "data": {
      "application/vnd.jupyter.widget-view+json": {
       "model_id": "77adf33a8609451e8021af0687e5a768",
       "version_major": 2,
       "version_minor": 0
      },
      "text/plain": [
       "HBox(children=(HTML(value='Export report to file'), FloatProgress(value=0.0, max=1.0), HTML(value='')))"
      ]
     },
     "metadata": {},
     "output_type": "display_data"
    },
    {
     "name": "stdout",
     "output_type": "stream",
     "text": [
      "\n"
     ]
    }
   ],
   "source": [
    "profile.to_file('output.html')"
   ]
  },
  {
   "cell_type": "markdown",
   "metadata": {},
   "source": [
    "# Data Preprocessing"
   ]
  },
  {
   "cell_type": "code",
   "execution_count": 7,
   "metadata": {},
   "outputs": [],
   "source": [
    "df.drop('Depth_ID',axis=1,inplace=True) #unnecessary for the prediction"
   ]
  },
  {
   "cell_type": "code",
   "execution_count": 8,
   "metadata": {},
   "outputs": [
    {
     "name": "stdout",
     "output_type": "stream",
     "text": [
      "Cst_Cnt : 0.0 % missing\n",
      "Btl_Cnt : 0.0 % missing\n",
      "Sta_ID : 0.0 % missing\n",
      "Depthm : 0.0 % missing\n",
      "T_degC : 1.2675996082616552 % missing\n",
      "Salnty : 5.475318056154559 % missing\n",
      "O2ml_L : 19.501585800294382 % missing\n",
      "STheta : 6.092178761260454 % missing\n",
      "O2Sat : 23.54002888318728 % missing\n",
      "Oxy_µmol/Kg : 23.54072263468318 % missing\n",
      "BtlNum : 86.27909853930622 % missing\n",
      "RecInd : 0.0 % missing\n",
      "T_prec : 1.2675996082616552 % missing\n",
      "T_qual : 97.32593485904704 % missing\n",
      "S_prec : 5.475318056154559 % missing\n",
      "S_qual : 91.33805007267047 % missing\n",
      "P_qual : 22.096910146462502 % missing\n",
      "O_qual : 78.64679145714408 % missing\n",
      "SThtaq : 92.3891992142108 % missing\n",
      "O2Satq : 74.81716757451758 % missing\n",
      "ChlorA : 73.95286883587343 % missing\n",
      "Chlqua : 26.096271895086275 % missing\n",
      "Phaeop : 73.95298446112274 % missing\n",
      "Phaqua : 26.095809394089002 % missing\n",
      "PO4uM : 52.210118828068715 % missing\n",
      "PO4q : 47.76213111209521 % missing\n",
      "SiO3uM : 59.058139844114045 % missing\n",
      "SiO3qu : 40.930991382450166 % missing\n",
      "NO2uM : 60.967690836583365 % missing\n",
      "NO2q : 38.77943674316048 % missing\n",
      "NO3uM : 60.987694004715195 % missing\n",
      "NO3q : 38.726364753724 % missing\n",
      "NH3uM : 92.4887525538727 % missing\n",
      "NH3q : 6.540226602363611 % missing\n",
      "C14As1 : 98.33129640185787 % missing\n",
      "C14A1p : 98.5246218187158 % missing\n",
      "C14A1q : 1.879835303394873 % missing\n",
      "C14As2 : 98.33337765634556 % missing\n",
      "C14A2p : 98.5267030732035 % missing\n",
      "C14A2q : 1.877754048907168 % missing\n",
      "DarkAs : 97.38120372822054 % missing\n",
      "DarkAp : 97.63465427472327 % missing\n",
      "DarkAq : 2.8239154640677193 % missing\n",
      "MeanAs : 97.38108810297122 % missing\n",
      "MeanAp : 97.63465427472327 % missing\n",
      "MeanAq : 2.824031089317036 % missing\n",
      "IncTim : 98.33071827561129 % missing\n",
      "LightP : 97.84347347498968 % missing\n",
      "R_Depth : 0.0 % missing\n",
      "R_TEMP : 1.2675996082616552 % missing\n",
      "R_POTEMP : 5.324195855297313 % missing\n",
      "R_SALINITY : 5.475318056154559 % missing\n",
      "R_SIGMA : 6.111488177896383 % missing\n",
      "R_SVA : 6.101660031704443 % missing\n",
      "R_DYNHT : 5.394727257380649 % missing\n",
      "R_O2 : 19.501585800294382 % missing\n",
      "R_O2Sat : 22.941783843221412 % missing\n",
      "R_SIO3 : 59.0572148421195 % missing\n",
      "R_PO4 : 52.209193826074184 % missing\n",
      "R_NO3 : 60.98676900272066 % missing\n",
      "R_NO2 : 60.966765834588834 % missing\n",
      "R_NH4 : 92.48644004888635 % missing\n",
      "R_CHLA : 73.95240633487616 % missing\n",
      "R_PHAEO : 73.95252196012547 % missing\n",
      "R_PRES : 0.0 % missing\n",
      "R_SAMP : 85.89302583183695 % missing\n",
      "DIC1 : 99.76886512661542 % missing\n",
      "DIC2 : 99.97409994415301 % missing\n",
      "TA1 : 99.75903698042349 % missing\n",
      "TA2 : 99.97294369165984 % missing\n",
      "pH2 : 99.99884374750683 % missing\n",
      "pH1 : 99.99028747905737 % missing\n",
      "DIC Quality Comment : 99.99364061128757 % missing\n"
     ]
    }
   ],
   "source": [
    "for i in df[df.columns]:\n",
    "    print(i, ':' ,df[i].isnull().sum()/len(df)*100,'% missing')  #checking the mising percentage of each features"
   ]
  },
  {
   "cell_type": "code",
   "execution_count": 9,
   "metadata": {},
   "outputs": [],
   "source": [
    "more_than_30=[]\n",
    "for i in df[df.columns]:\n",
    "    if df[i].isnull().sum()/len(df)*100 >30:\n",
    "        more_than_30.append(df[i].name)          #collecting the feartures that thave more than 30% of missing values\n",
    "        "
   ]
  },
  {
   "cell_type": "code",
   "execution_count": 10,
   "metadata": {},
   "outputs": [
    {
     "data": {
      "text/plain": [
       "['BtlNum',\n",
       " 'T_qual',\n",
       " 'S_qual',\n",
       " 'O_qual',\n",
       " 'SThtaq',\n",
       " 'O2Satq',\n",
       " 'ChlorA',\n",
       " 'Phaeop',\n",
       " 'PO4uM',\n",
       " 'PO4q',\n",
       " 'SiO3uM',\n",
       " 'SiO3qu',\n",
       " 'NO2uM',\n",
       " 'NO2q',\n",
       " 'NO3uM',\n",
       " 'NO3q',\n",
       " 'NH3uM',\n",
       " 'C14As1',\n",
       " 'C14A1p',\n",
       " 'C14As2',\n",
       " 'C14A2p',\n",
       " 'DarkAs',\n",
       " 'DarkAp',\n",
       " 'MeanAs',\n",
       " 'MeanAp',\n",
       " 'IncTim',\n",
       " 'LightP',\n",
       " 'R_SIO3',\n",
       " 'R_PO4',\n",
       " 'R_NO3',\n",
       " 'R_NO2',\n",
       " 'R_NH4',\n",
       " 'R_CHLA',\n",
       " 'R_PHAEO',\n",
       " 'R_SAMP',\n",
       " 'DIC1',\n",
       " 'DIC2',\n",
       " 'TA1',\n",
       " 'TA2',\n",
       " 'pH2',\n",
       " 'pH1',\n",
       " 'DIC Quality Comment']"
      ]
     },
     "execution_count": 10,
     "metadata": {},
     "output_type": "execute_result"
    }
   ],
   "source": [
    "more_than_30"
   ]
  },
  {
   "cell_type": "code",
   "execution_count": 11,
   "metadata": {},
   "outputs": [],
   "source": [
    "for i in df[df.columns]:\n",
    "    if df[i].isnull().sum()/len(df)*100 >30:       #dropping the features that have more than 30% missing values\n",
    "        df.drop(i,axis=1,inplace=True)"
   ]
  },
  {
   "cell_type": "code",
   "execution_count": 12,
   "metadata": {},
   "outputs": [
    {
     "data": {
      "text/html": [
       "<div>\n",
       "<style scoped>\n",
       "    .dataframe tbody tr th:only-of-type {\n",
       "        vertical-align: middle;\n",
       "    }\n",
       "\n",
       "    .dataframe tbody tr th {\n",
       "        vertical-align: top;\n",
       "    }\n",
       "\n",
       "    .dataframe thead th {\n",
       "        text-align: right;\n",
       "    }\n",
       "</style>\n",
       "<table border=\"1\" class=\"dataframe\">\n",
       "  <thead>\n",
       "    <tr style=\"text-align: right;\">\n",
       "      <th></th>\n",
       "      <th>Cst_Cnt</th>\n",
       "      <th>Btl_Cnt</th>\n",
       "      <th>Sta_ID</th>\n",
       "      <th>Depthm</th>\n",
       "      <th>T_degC</th>\n",
       "      <th>Salnty</th>\n",
       "      <th>O2ml_L</th>\n",
       "      <th>STheta</th>\n",
       "      <th>O2Sat</th>\n",
       "      <th>Oxy_µmol/Kg</th>\n",
       "      <th>...</th>\n",
       "      <th>R_Depth</th>\n",
       "      <th>R_TEMP</th>\n",
       "      <th>R_POTEMP</th>\n",
       "      <th>R_SALINITY</th>\n",
       "      <th>R_SIGMA</th>\n",
       "      <th>R_SVA</th>\n",
       "      <th>R_DYNHT</th>\n",
       "      <th>R_O2</th>\n",
       "      <th>R_O2Sat</th>\n",
       "      <th>R_PRES</th>\n",
       "    </tr>\n",
       "  </thead>\n",
       "  <tbody>\n",
       "    <tr>\n",
       "      <th>0</th>\n",
       "      <td>1</td>\n",
       "      <td>1</td>\n",
       "      <td>054.0 056.0</td>\n",
       "      <td>0</td>\n",
       "      <td>10.500</td>\n",
       "      <td>33.4400</td>\n",
       "      <td>NaN</td>\n",
       "      <td>25.64900</td>\n",
       "      <td>NaN</td>\n",
       "      <td>NaN</td>\n",
       "      <td>...</td>\n",
       "      <td>0.0</td>\n",
       "      <td>10.50</td>\n",
       "      <td>10.50</td>\n",
       "      <td>33.440</td>\n",
       "      <td>25.640</td>\n",
       "      <td>233.0</td>\n",
       "      <td>0.000</td>\n",
       "      <td>NaN</td>\n",
       "      <td>NaN</td>\n",
       "      <td>0</td>\n",
       "    </tr>\n",
       "    <tr>\n",
       "      <th>1</th>\n",
       "      <td>1</td>\n",
       "      <td>2</td>\n",
       "      <td>054.0 056.0</td>\n",
       "      <td>8</td>\n",
       "      <td>10.460</td>\n",
       "      <td>33.4400</td>\n",
       "      <td>NaN</td>\n",
       "      <td>25.65600</td>\n",
       "      <td>NaN</td>\n",
       "      <td>NaN</td>\n",
       "      <td>...</td>\n",
       "      <td>8.0</td>\n",
       "      <td>10.46</td>\n",
       "      <td>10.46</td>\n",
       "      <td>33.440</td>\n",
       "      <td>25.650</td>\n",
       "      <td>232.5</td>\n",
       "      <td>0.010</td>\n",
       "      <td>NaN</td>\n",
       "      <td>NaN</td>\n",
       "      <td>8</td>\n",
       "    </tr>\n",
       "    <tr>\n",
       "      <th>2</th>\n",
       "      <td>1</td>\n",
       "      <td>3</td>\n",
       "      <td>054.0 056.0</td>\n",
       "      <td>10</td>\n",
       "      <td>10.460</td>\n",
       "      <td>33.4370</td>\n",
       "      <td>NaN</td>\n",
       "      <td>25.65400</td>\n",
       "      <td>NaN</td>\n",
       "      <td>NaN</td>\n",
       "      <td>...</td>\n",
       "      <td>10.0</td>\n",
       "      <td>10.46</td>\n",
       "      <td>10.46</td>\n",
       "      <td>33.437</td>\n",
       "      <td>25.650</td>\n",
       "      <td>232.8</td>\n",
       "      <td>0.020</td>\n",
       "      <td>NaN</td>\n",
       "      <td>NaN</td>\n",
       "      <td>10</td>\n",
       "    </tr>\n",
       "    <tr>\n",
       "      <th>3</th>\n",
       "      <td>1</td>\n",
       "      <td>4</td>\n",
       "      <td>054.0 056.0</td>\n",
       "      <td>19</td>\n",
       "      <td>10.450</td>\n",
       "      <td>33.4200</td>\n",
       "      <td>NaN</td>\n",
       "      <td>25.64300</td>\n",
       "      <td>NaN</td>\n",
       "      <td>NaN</td>\n",
       "      <td>...</td>\n",
       "      <td>19.0</td>\n",
       "      <td>10.45</td>\n",
       "      <td>10.45</td>\n",
       "      <td>33.420</td>\n",
       "      <td>25.640</td>\n",
       "      <td>234.1</td>\n",
       "      <td>0.040</td>\n",
       "      <td>NaN</td>\n",
       "      <td>NaN</td>\n",
       "      <td>19</td>\n",
       "    </tr>\n",
       "    <tr>\n",
       "      <th>4</th>\n",
       "      <td>1</td>\n",
       "      <td>5</td>\n",
       "      <td>054.0 056.0</td>\n",
       "      <td>20</td>\n",
       "      <td>10.450</td>\n",
       "      <td>33.4210</td>\n",
       "      <td>NaN</td>\n",
       "      <td>25.64300</td>\n",
       "      <td>NaN</td>\n",
       "      <td>NaN</td>\n",
       "      <td>...</td>\n",
       "      <td>20.0</td>\n",
       "      <td>10.45</td>\n",
       "      <td>10.45</td>\n",
       "      <td>33.421</td>\n",
       "      <td>25.640</td>\n",
       "      <td>234.0</td>\n",
       "      <td>0.040</td>\n",
       "      <td>NaN</td>\n",
       "      <td>NaN</td>\n",
       "      <td>20</td>\n",
       "    </tr>\n",
       "    <tr>\n",
       "      <th>...</th>\n",
       "      <td>...</td>\n",
       "      <td>...</td>\n",
       "      <td>...</td>\n",
       "      <td>...</td>\n",
       "      <td>...</td>\n",
       "      <td>...</td>\n",
       "      <td>...</td>\n",
       "      <td>...</td>\n",
       "      <td>...</td>\n",
       "      <td>...</td>\n",
       "      <td>...</td>\n",
       "      <td>...</td>\n",
       "      <td>...</td>\n",
       "      <td>...</td>\n",
       "      <td>...</td>\n",
       "      <td>...</td>\n",
       "      <td>...</td>\n",
       "      <td>...</td>\n",
       "      <td>...</td>\n",
       "      <td>...</td>\n",
       "      <td>...</td>\n",
       "    </tr>\n",
       "    <tr>\n",
       "      <th>864858</th>\n",
       "      <td>34404</td>\n",
       "      <td>864859</td>\n",
       "      <td>093.4 026.4</td>\n",
       "      <td>0</td>\n",
       "      <td>18.744</td>\n",
       "      <td>33.4083</td>\n",
       "      <td>5.805</td>\n",
       "      <td>23.87055</td>\n",
       "      <td>108.74</td>\n",
       "      <td>253.47</td>\n",
       "      <td>...</td>\n",
       "      <td>0.0</td>\n",
       "      <td>18.74</td>\n",
       "      <td>18.74</td>\n",
       "      <td>33.408</td>\n",
       "      <td>23.871</td>\n",
       "      <td>402.4</td>\n",
       "      <td>0.000</td>\n",
       "      <td>5.81</td>\n",
       "      <td>108.7</td>\n",
       "      <td>0</td>\n",
       "    </tr>\n",
       "    <tr>\n",
       "      <th>864859</th>\n",
       "      <td>34404</td>\n",
       "      <td>864860</td>\n",
       "      <td>093.4 026.4</td>\n",
       "      <td>2</td>\n",
       "      <td>18.744</td>\n",
       "      <td>33.4083</td>\n",
       "      <td>5.805</td>\n",
       "      <td>23.87072</td>\n",
       "      <td>108.74</td>\n",
       "      <td>253.47</td>\n",
       "      <td>...</td>\n",
       "      <td>2.0</td>\n",
       "      <td>18.74</td>\n",
       "      <td>18.74</td>\n",
       "      <td>33.408</td>\n",
       "      <td>23.871</td>\n",
       "      <td>402.5</td>\n",
       "      <td>0.008</td>\n",
       "      <td>5.81</td>\n",
       "      <td>108.7</td>\n",
       "      <td>2</td>\n",
       "    </tr>\n",
       "    <tr>\n",
       "      <th>864860</th>\n",
       "      <td>34404</td>\n",
       "      <td>864861</td>\n",
       "      <td>093.4 026.4</td>\n",
       "      <td>5</td>\n",
       "      <td>18.692</td>\n",
       "      <td>33.4150</td>\n",
       "      <td>5.796</td>\n",
       "      <td>23.88911</td>\n",
       "      <td>108.46</td>\n",
       "      <td>253.06</td>\n",
       "      <td>...</td>\n",
       "      <td>5.0</td>\n",
       "      <td>18.69</td>\n",
       "      <td>18.69</td>\n",
       "      <td>33.415</td>\n",
       "      <td>23.889</td>\n",
       "      <td>400.8</td>\n",
       "      <td>0.020</td>\n",
       "      <td>5.80</td>\n",
       "      <td>108.5</td>\n",
       "      <td>5</td>\n",
       "    </tr>\n",
       "    <tr>\n",
       "      <th>864861</th>\n",
       "      <td>34404</td>\n",
       "      <td>864862</td>\n",
       "      <td>093.4 026.4</td>\n",
       "      <td>10</td>\n",
       "      <td>18.161</td>\n",
       "      <td>33.4062</td>\n",
       "      <td>5.816</td>\n",
       "      <td>24.01426</td>\n",
       "      <td>107.74</td>\n",
       "      <td>253.92</td>\n",
       "      <td>...</td>\n",
       "      <td>10.0</td>\n",
       "      <td>18.16</td>\n",
       "      <td>18.16</td>\n",
       "      <td>33.406</td>\n",
       "      <td>24.014</td>\n",
       "      <td>389.1</td>\n",
       "      <td>0.040</td>\n",
       "      <td>5.82</td>\n",
       "      <td>107.7</td>\n",
       "      <td>10</td>\n",
       "    </tr>\n",
       "    <tr>\n",
       "      <th>864862</th>\n",
       "      <td>34404</td>\n",
       "      <td>864863</td>\n",
       "      <td>093.4 026.4</td>\n",
       "      <td>15</td>\n",
       "      <td>17.533</td>\n",
       "      <td>33.3880</td>\n",
       "      <td>5.774</td>\n",
       "      <td>24.15297</td>\n",
       "      <td>105.66</td>\n",
       "      <td>252.08</td>\n",
       "      <td>...</td>\n",
       "      <td>15.0</td>\n",
       "      <td>17.53</td>\n",
       "      <td>17.53</td>\n",
       "      <td>33.388</td>\n",
       "      <td>24.153</td>\n",
       "      <td>376.0</td>\n",
       "      <td>0.059</td>\n",
       "      <td>5.77</td>\n",
       "      <td>105.7</td>\n",
       "      <td>15</td>\n",
       "    </tr>\n",
       "  </tbody>\n",
       "</table>\n",
       "<p>864863 rows × 31 columns</p>\n",
       "</div>"
      ],
      "text/plain": [
       "        Cst_Cnt  Btl_Cnt       Sta_ID  Depthm  T_degC   Salnty  O2ml_L  \\\n",
       "0             1        1  054.0 056.0       0  10.500  33.4400     NaN   \n",
       "1             1        2  054.0 056.0       8  10.460  33.4400     NaN   \n",
       "2             1        3  054.0 056.0      10  10.460  33.4370     NaN   \n",
       "3             1        4  054.0 056.0      19  10.450  33.4200     NaN   \n",
       "4             1        5  054.0 056.0      20  10.450  33.4210     NaN   \n",
       "...         ...      ...          ...     ...     ...      ...     ...   \n",
       "864858    34404   864859  093.4 026.4       0  18.744  33.4083   5.805   \n",
       "864859    34404   864860  093.4 026.4       2  18.744  33.4083   5.805   \n",
       "864860    34404   864861  093.4 026.4       5  18.692  33.4150   5.796   \n",
       "864861    34404   864862  093.4 026.4      10  18.161  33.4062   5.816   \n",
       "864862    34404   864863  093.4 026.4      15  17.533  33.3880   5.774   \n",
       "\n",
       "          STheta   O2Sat  Oxy_µmol/Kg  ...  R_Depth  R_TEMP  R_POTEMP  \\\n",
       "0       25.64900     NaN          NaN  ...      0.0   10.50     10.50   \n",
       "1       25.65600     NaN          NaN  ...      8.0   10.46     10.46   \n",
       "2       25.65400     NaN          NaN  ...     10.0   10.46     10.46   \n",
       "3       25.64300     NaN          NaN  ...     19.0   10.45     10.45   \n",
       "4       25.64300     NaN          NaN  ...     20.0   10.45     10.45   \n",
       "...          ...     ...          ...  ...      ...     ...       ...   \n",
       "864858  23.87055  108.74       253.47  ...      0.0   18.74     18.74   \n",
       "864859  23.87072  108.74       253.47  ...      2.0   18.74     18.74   \n",
       "864860  23.88911  108.46       253.06  ...      5.0   18.69     18.69   \n",
       "864861  24.01426  107.74       253.92  ...     10.0   18.16     18.16   \n",
       "864862  24.15297  105.66       252.08  ...     15.0   17.53     17.53   \n",
       "\n",
       "        R_SALINITY  R_SIGMA  R_SVA  R_DYNHT  R_O2  R_O2Sat  R_PRES  \n",
       "0           33.440   25.640  233.0    0.000   NaN      NaN       0  \n",
       "1           33.440   25.650  232.5    0.010   NaN      NaN       8  \n",
       "2           33.437   25.650  232.8    0.020   NaN      NaN      10  \n",
       "3           33.420   25.640  234.1    0.040   NaN      NaN      19  \n",
       "4           33.421   25.640  234.0    0.040   NaN      NaN      20  \n",
       "...            ...      ...    ...      ...   ...      ...     ...  \n",
       "864858      33.408   23.871  402.4    0.000  5.81    108.7       0  \n",
       "864859      33.408   23.871  402.5    0.008  5.81    108.7       2  \n",
       "864860      33.415   23.889  400.8    0.020  5.80    108.5       5  \n",
       "864861      33.406   24.014  389.1    0.040  5.82    107.7      10  \n",
       "864862      33.388   24.153  376.0    0.059  5.77    105.7      15  \n",
       "\n",
       "[864863 rows x 31 columns]"
      ]
     },
     "execution_count": 12,
     "metadata": {},
     "output_type": "execute_result"
    }
   ],
   "source": [
    "df"
   ]
  },
  {
   "cell_type": "code",
   "execution_count": 13,
   "metadata": {},
   "outputs": [
    {
     "name": "stdout",
     "output_type": "stream",
     "text": [
      "Cst_Cnt : 0.0 % missing\n",
      "Btl_Cnt : 0.0 % missing\n",
      "Sta_ID : 0.0 % missing\n",
      "Depthm : 0.0 % missing\n",
      "T_degC : 1.2675996082616552 % missing\n",
      "Salnty : 5.475318056154559 % missing\n",
      "O2ml_L : 19.501585800294382 % missing\n",
      "STheta : 6.092178761260454 % missing\n",
      "O2Sat : 23.54002888318728 % missing\n",
      "Oxy_µmol/Kg : 23.54072263468318 % missing\n",
      "RecInd : 0.0 % missing\n",
      "T_prec : 1.2675996082616552 % missing\n",
      "S_prec : 5.475318056154559 % missing\n",
      "P_qual : 22.096910146462502 % missing\n",
      "Chlqua : 26.096271895086275 % missing\n",
      "Phaqua : 26.095809394089002 % missing\n",
      "NH3q : 6.540226602363611 % missing\n",
      "C14A1q : 1.879835303394873 % missing\n",
      "C14A2q : 1.877754048907168 % missing\n",
      "DarkAq : 2.8239154640677193 % missing\n",
      "MeanAq : 2.824031089317036 % missing\n",
      "R_Depth : 0.0 % missing\n",
      "R_TEMP : 1.2675996082616552 % missing\n",
      "R_POTEMP : 5.324195855297313 % missing\n",
      "R_SALINITY : 5.475318056154559 % missing\n",
      "R_SIGMA : 6.111488177896383 % missing\n",
      "R_SVA : 6.101660031704443 % missing\n",
      "R_DYNHT : 5.394727257380649 % missing\n",
      "R_O2 : 19.501585800294382 % missing\n",
      "R_O2Sat : 22.941783843221412 % missing\n",
      "R_PRES : 0.0 % missing\n"
     ]
    }
   ],
   "source": [
    "for i in df[df.columns]:\n",
    "    print(i, ':' ,df[i].isnull().sum()/len(df)*100,'% missing')"
   ]
  },
  {
   "cell_type": "markdown",
   "metadata": {},
   "source": [
    "## Handling Catagorical values"
   ]
  },
  {
   "cell_type": "code",
   "execution_count": 14,
   "metadata": {},
   "outputs": [
    {
     "data": {
      "text/plain": [
       "2634"
      ]
     },
     "execution_count": 14,
     "metadata": {},
     "output_type": "execute_result"
    }
   ],
   "source": [
    "df['Sta_ID'].nunique()"
   ]
  },
  {
   "cell_type": "code",
   "execution_count": 15,
   "metadata": {},
   "outputs": [],
   "source": [
    "from sklearn.preprocessing import LabelEncoder"
   ]
  },
  {
   "cell_type": "code",
   "execution_count": 16,
   "metadata": {},
   "outputs": [],
   "source": [
    "labelencoder = LabelEncoder()"
   ]
  },
  {
   "cell_type": "code",
   "execution_count": 17,
   "metadata": {},
   "outputs": [],
   "source": [
    "df['Sta_ID'] = labelencoder.fit_transform(df['Sta_ID'])"
   ]
  },
  {
   "cell_type": "code",
   "execution_count": 18,
   "metadata": {},
   "outputs": [
    {
     "name": "stdout",
     "output_type": "stream",
     "text": [
      "<class 'pandas.core.frame.DataFrame'>\n",
      "RangeIndex: 864863 entries, 0 to 864862\n",
      "Data columns (total 31 columns):\n",
      " #   Column       Non-Null Count   Dtype  \n",
      "---  ------       --------------   -----  \n",
      " 0   Cst_Cnt      864863 non-null  int64  \n",
      " 1   Btl_Cnt      864863 non-null  int64  \n",
      " 2   Sta_ID       864863 non-null  int32  \n",
      " 3   Depthm       864863 non-null  int64  \n",
      " 4   T_degC       853900 non-null  float64\n",
      " 5   Salnty       817509 non-null  float64\n",
      " 6   O2ml_L       696201 non-null  float64\n",
      " 7   STheta       812174 non-null  float64\n",
      " 8   O2Sat        661274 non-null  float64\n",
      " 9   Oxy_µmol/Kg  661268 non-null  float64\n",
      " 10  RecInd       864863 non-null  int64  \n",
      " 11  T_prec       853900 non-null  float64\n",
      " 12  S_prec       817509 non-null  float64\n",
      " 13  P_qual       673755 non-null  float64\n",
      " 14  Chlqua       639166 non-null  float64\n",
      " 15  Phaqua       639170 non-null  float64\n",
      " 16  NH3q         808299 non-null  float64\n",
      " 17  C14A1q       848605 non-null  float64\n",
      " 18  C14A2q       848623 non-null  float64\n",
      " 19  DarkAq       840440 non-null  float64\n",
      " 20  MeanAq       840439 non-null  float64\n",
      " 21  R_Depth      864863 non-null  float64\n",
      " 22  R_TEMP       853900 non-null  float64\n",
      " 23  R_POTEMP     818816 non-null  float64\n",
      " 24  R_SALINITY   817509 non-null  float64\n",
      " 25  R_SIGMA      812007 non-null  float64\n",
      " 26  R_SVA        812092 non-null  float64\n",
      " 27  R_DYNHT      818206 non-null  float64\n",
      " 28  R_O2         696201 non-null  float64\n",
      " 29  R_O2Sat      666448 non-null  float64\n",
      " 30  R_PRES       864863 non-null  int64  \n",
      "dtypes: float64(25), int32(1), int64(5)\n",
      "memory usage: 201.3 MB\n"
     ]
    }
   ],
   "source": [
    "df.info()"
   ]
  },
  {
   "cell_type": "markdown",
   "metadata": {},
   "source": [
    "## Correlation"
   ]
  },
  {
   "cell_type": "code",
   "execution_count": 19,
   "metadata": {},
   "outputs": [
    {
     "data": {
      "text/plain": [
       "Cst_Cnt       -0.198024\n",
       "Btl_Cnt       -0.195207\n",
       "Sta_ID         0.344802\n",
       "Depthm         0.572630\n",
       "T_degC        -0.505266\n",
       "Salnty         1.000000\n",
       "O2ml_L        -0.823870\n",
       "STheta         0.603470\n",
       "O2Sat         -0.790231\n",
       "Oxy_µmol/Kg   -0.824338\n",
       "RecInd         0.067320\n",
       "T_prec        -0.019075\n",
       "S_prec        -0.079280\n",
       "P_qual         0.002334\n",
       "Chlqua         0.010279\n",
       "Phaqua         0.010728\n",
       "NH3q           0.025301\n",
       "C14A1q         0.004085\n",
       "C14A2q         0.004085\n",
       "DarkAq         0.003950\n",
       "MeanAq         0.004141\n",
       "R_Depth        0.572629\n",
       "R_TEMP        -0.505268\n",
       "R_POTEMP      -0.507023\n",
       "R_SALINITY     0.997428\n",
       "R_SIGMA        0.628311\n",
       "R_SVA         -0.698367\n",
       "R_DYNHT        0.669824\n",
       "R_O2          -0.823871\n",
       "R_O2Sat       -0.790542\n",
       "R_PRES         0.571405\n",
       "Name: Salnty, dtype: float64"
      ]
     },
     "execution_count": 19,
     "metadata": {},
     "output_type": "execute_result"
    }
   ],
   "source": [
    "df[df.columns].corr()['Salnty'][:]  #on the basis of label data"
   ]
  },
  {
   "cell_type": "code",
   "execution_count": 20,
   "metadata": {},
   "outputs": [],
   "source": [
    "corr = df.corr()"
   ]
  },
  {
   "cell_type": "code",
   "execution_count": 21,
   "metadata": {},
   "outputs": [
    {
     "data": {
      "text/plain": [
       "<AxesSubplot:>"
      ]
     },
     "execution_count": 21,
     "metadata": {},
     "output_type": "execute_result"
    },
    {
     "data": {
      "image/png": "[encoded data removed]",
      "text/plain": [
       "<Figure size 1152x720 with 2 Axes>"
      ]
     },
     "metadata": {
      "needs_background": "light"
     },
     "output_type": "display_data"
    }
   ],
   "source": [
    "plt.figure(figsize=[16,10])\n",
    "sns.heatmap(corr,cmap=plt.cm.CMRmap_r)"
   ]
  },
  {
   "cell_type": "markdown",
   "metadata": {},
   "source": [
    "## Removing the features that are highly correlated"
   ]
  },
  {
   "cell_type": "code",
   "execution_count": 22,
   "metadata": {},
   "outputs": [],
   "source": [
    "def correlation(dataset,threshold):\n",
    "    col_corr= set()  #set of all names of correlated columns\n",
    "    corr_matrix= df.corr()\n",
    "    for i in range(len(corr_matrix.columns)):\n",
    "        for j in range(i):\n",
    "            if abs(corr_matrix.iloc[i,j])> threshold:\n",
    "                colname=corr_matrix.columns[i]\n",
    "                col_corr.add(colname)\n",
    "    return col_corr        \n",
    "                "
   ]
  },
  {
   "cell_type": "code",
   "execution_count": 23,
   "metadata": {},
   "outputs": [],
   "source": [
    "corr_features=correlation(df,.90)"
   ]
  },
  {
   "cell_type": "code",
   "execution_count": 24,
   "metadata": {},
   "outputs": [
    {
     "data": {
      "text/plain": [
       "17"
      ]
     },
     "execution_count": 24,
     "metadata": {},
     "output_type": "execute_result"
    }
   ],
   "source": [
    "len(set(corr_features))"
   ]
  },
  {
   "cell_type": "code",
   "execution_count": 25,
   "metadata": {},
   "outputs": [
    {
     "data": {
      "text/plain": [
       "{'Btl_Cnt',\n",
       " 'C14A2q',\n",
       " 'DarkAq',\n",
       " 'MeanAq',\n",
       " 'O2Sat',\n",
       " 'Oxy_µmol/Kg',\n",
       " 'Phaqua',\n",
       " 'R_DYNHT',\n",
       " 'R_Depth',\n",
       " 'R_O2',\n",
       " 'R_O2Sat',\n",
       " 'R_POTEMP',\n",
       " 'R_PRES',\n",
       " 'R_SALINITY',\n",
       " 'R_SIGMA',\n",
       " 'R_SVA',\n",
       " 'R_TEMP'}"
      ]
     },
     "execution_count": 25,
     "metadata": {},
     "output_type": "execute_result"
    }
   ],
   "source": [
    "corr_features"
   ]
  },
  {
   "cell_type": "code",
   "execution_count": 26,
   "metadata": {},
   "outputs": [],
   "source": [
    "df.drop(corr_features,axis=1,inplace=True)"
   ]
  },
  {
   "cell_type": "code",
   "execution_count": 27,
   "metadata": {},
   "outputs": [
    {
     "data": {
      "text/html": [
       "<div>\n",
       "<style scoped>\n",
       "    .dataframe tbody tr th:only-of-type {\n",
       "        vertical-align: middle;\n",
       "    }\n",
       "\n",
       "    .dataframe tbody tr th {\n",
       "        vertical-align: top;\n",
       "    }\n",
       "\n",
       "    .dataframe thead th {\n",
       "        text-align: right;\n",
       "    }\n",
       "</style>\n",
       "<table border=\"1\" class=\"dataframe\">\n",
       "  <thead>\n",
       "    <tr style=\"text-align: right;\">\n",
       "      <th></th>\n",
       "      <th>Cst_Cnt</th>\n",
       "      <th>Sta_ID</th>\n",
       "      <th>Depthm</th>\n",
       "      <th>T_degC</th>\n",
       "      <th>Salnty</th>\n",
       "      <th>O2ml_L</th>\n",
       "      <th>STheta</th>\n",
       "      <th>RecInd</th>\n",
       "      <th>T_prec</th>\n",
       "      <th>S_prec</th>\n",
       "      <th>P_qual</th>\n",
       "      <th>Chlqua</th>\n",
       "      <th>NH3q</th>\n",
       "      <th>C14A1q</th>\n",
       "    </tr>\n",
       "  </thead>\n",
       "  <tbody>\n",
       "    <tr>\n",
       "      <th>0</th>\n",
       "      <td>1</td>\n",
       "      <td>312</td>\n",
       "      <td>0</td>\n",
       "      <td>10.500</td>\n",
       "      <td>33.4400</td>\n",
       "      <td>NaN</td>\n",
       "      <td>25.64900</td>\n",
       "      <td>3</td>\n",
       "      <td>1.0</td>\n",
       "      <td>2.0</td>\n",
       "      <td>9.0</td>\n",
       "      <td>9.0</td>\n",
       "      <td>9.0</td>\n",
       "      <td>9.0</td>\n",
       "    </tr>\n",
       "    <tr>\n",
       "      <th>1</th>\n",
       "      <td>1</td>\n",
       "      <td>312</td>\n",
       "      <td>8</td>\n",
       "      <td>10.460</td>\n",
       "      <td>33.4400</td>\n",
       "      <td>NaN</td>\n",
       "      <td>25.65600</td>\n",
       "      <td>3</td>\n",
       "      <td>2.0</td>\n",
       "      <td>2.0</td>\n",
       "      <td>9.0</td>\n",
       "      <td>9.0</td>\n",
       "      <td>9.0</td>\n",
       "      <td>9.0</td>\n",
       "    </tr>\n",
       "    <tr>\n",
       "      <th>2</th>\n",
       "      <td>1</td>\n",
       "      <td>312</td>\n",
       "      <td>10</td>\n",
       "      <td>10.460</td>\n",
       "      <td>33.4370</td>\n",
       "      <td>NaN</td>\n",
       "      <td>25.65400</td>\n",
       "      <td>7</td>\n",
       "      <td>2.0</td>\n",
       "      <td>3.0</td>\n",
       "      <td>9.0</td>\n",
       "      <td>9.0</td>\n",
       "      <td>9.0</td>\n",
       "      <td>9.0</td>\n",
       "    </tr>\n",
       "    <tr>\n",
       "      <th>3</th>\n",
       "      <td>1</td>\n",
       "      <td>312</td>\n",
       "      <td>19</td>\n",
       "      <td>10.450</td>\n",
       "      <td>33.4200</td>\n",
       "      <td>NaN</td>\n",
       "      <td>25.64300</td>\n",
       "      <td>3</td>\n",
       "      <td>2.0</td>\n",
       "      <td>2.0</td>\n",
       "      <td>9.0</td>\n",
       "      <td>9.0</td>\n",
       "      <td>9.0</td>\n",
       "      <td>9.0</td>\n",
       "    </tr>\n",
       "    <tr>\n",
       "      <th>4</th>\n",
       "      <td>1</td>\n",
       "      <td>312</td>\n",
       "      <td>20</td>\n",
       "      <td>10.450</td>\n",
       "      <td>33.4210</td>\n",
       "      <td>NaN</td>\n",
       "      <td>25.64300</td>\n",
       "      <td>7</td>\n",
       "      <td>2.0</td>\n",
       "      <td>3.0</td>\n",
       "      <td>9.0</td>\n",
       "      <td>9.0</td>\n",
       "      <td>9.0</td>\n",
       "      <td>9.0</td>\n",
       "    </tr>\n",
       "    <tr>\n",
       "      <th>...</th>\n",
       "      <td>...</td>\n",
       "      <td>...</td>\n",
       "      <td>...</td>\n",
       "      <td>...</td>\n",
       "      <td>...</td>\n",
       "      <td>...</td>\n",
       "      <td>...</td>\n",
       "      <td>...</td>\n",
       "      <td>...</td>\n",
       "      <td>...</td>\n",
       "      <td>...</td>\n",
       "      <td>...</td>\n",
       "      <td>...</td>\n",
       "      <td>...</td>\n",
       "    </tr>\n",
       "    <tr>\n",
       "      <th>864858</th>\n",
       "      <td>34404</td>\n",
       "      <td>1386</td>\n",
       "      <td>0</td>\n",
       "      <td>18.744</td>\n",
       "      <td>33.4083</td>\n",
       "      <td>5.805</td>\n",
       "      <td>23.87055</td>\n",
       "      <td>7</td>\n",
       "      <td>2.0</td>\n",
       "      <td>3.0</td>\n",
       "      <td>NaN</td>\n",
       "      <td>NaN</td>\n",
       "      <td>NaN</td>\n",
       "      <td>9.0</td>\n",
       "    </tr>\n",
       "    <tr>\n",
       "      <th>864859</th>\n",
       "      <td>34404</td>\n",
       "      <td>1386</td>\n",
       "      <td>2</td>\n",
       "      <td>18.744</td>\n",
       "      <td>33.4083</td>\n",
       "      <td>5.805</td>\n",
       "      <td>23.87072</td>\n",
       "      <td>3</td>\n",
       "      <td>2.0</td>\n",
       "      <td>3.0</td>\n",
       "      <td>NaN</td>\n",
       "      <td>NaN</td>\n",
       "      <td>4.0</td>\n",
       "      <td>9.0</td>\n",
       "    </tr>\n",
       "    <tr>\n",
       "      <th>864860</th>\n",
       "      <td>34404</td>\n",
       "      <td>1386</td>\n",
       "      <td>5</td>\n",
       "      <td>18.692</td>\n",
       "      <td>33.4150</td>\n",
       "      <td>5.796</td>\n",
       "      <td>23.88911</td>\n",
       "      <td>3</td>\n",
       "      <td>2.0</td>\n",
       "      <td>3.0</td>\n",
       "      <td>NaN</td>\n",
       "      <td>NaN</td>\n",
       "      <td>4.0</td>\n",
       "      <td>9.0</td>\n",
       "    </tr>\n",
       "    <tr>\n",
       "      <th>864861</th>\n",
       "      <td>34404</td>\n",
       "      <td>1386</td>\n",
       "      <td>10</td>\n",
       "      <td>18.161</td>\n",
       "      <td>33.4062</td>\n",
       "      <td>5.816</td>\n",
       "      <td>24.01426</td>\n",
       "      <td>3</td>\n",
       "      <td>2.0</td>\n",
       "      <td>3.0</td>\n",
       "      <td>NaN</td>\n",
       "      <td>NaN</td>\n",
       "      <td>NaN</td>\n",
       "      <td>9.0</td>\n",
       "    </tr>\n",
       "    <tr>\n",
       "      <th>864862</th>\n",
       "      <td>34404</td>\n",
       "      <td>1386</td>\n",
       "      <td>15</td>\n",
       "      <td>17.533</td>\n",
       "      <td>33.3880</td>\n",
       "      <td>5.774</td>\n",
       "      <td>24.15297</td>\n",
       "      <td>3</td>\n",
       "      <td>2.0</td>\n",
       "      <td>3.0</td>\n",
       "      <td>NaN</td>\n",
       "      <td>NaN</td>\n",
       "      <td>NaN</td>\n",
       "      <td>9.0</td>\n",
       "    </tr>\n",
       "  </tbody>\n",
       "</table>\n",
       "<p>864863 rows × 14 columns</p>\n",
       "</div>"
      ],
      "text/plain": [
       "        Cst_Cnt  Sta_ID  Depthm  T_degC   Salnty  O2ml_L    STheta  RecInd  \\\n",
       "0             1     312       0  10.500  33.4400     NaN  25.64900       3   \n",
       "1             1     312       8  10.460  33.4400     NaN  25.65600       3   \n",
       "2             1     312      10  10.460  33.4370     NaN  25.65400       7   \n",
       "3             1     312      19  10.450  33.4200     NaN  25.64300       3   \n",
       "4             1     312      20  10.450  33.4210     NaN  25.64300       7   \n",
       "...         ...     ...     ...     ...      ...     ...       ...     ...   \n",
       "864858    34404    1386       0  18.744  33.4083   5.805  23.87055       7   \n",
       "864859    34404    1386       2  18.744  33.4083   5.805  23.87072       3   \n",
       "864860    34404    1386       5  18.692  33.4150   5.796  23.88911       3   \n",
       "864861    34404    1386      10  18.161  33.4062   5.816  24.01426       3   \n",
       "864862    34404    1386      15  17.533  33.3880   5.774  24.15297       3   \n",
       "\n",
       "        T_prec  S_prec  P_qual  Chlqua  NH3q  C14A1q  \n",
       "0          1.0     2.0     9.0     9.0   9.0     9.0  \n",
       "1          2.0     2.0     9.0     9.0   9.0     9.0  \n",
       "2          2.0     3.0     9.0     9.0   9.0     9.0  \n",
       "3          2.0     2.0     9.0     9.0   9.0     9.0  \n",
       "4          2.0     3.0     9.0     9.0   9.0     9.0  \n",
       "...        ...     ...     ...     ...   ...     ...  \n",
       "864858     2.0     3.0     NaN     NaN   NaN     9.0  \n",
       "864859     2.0     3.0     NaN     NaN   4.0     9.0  \n",
       "864860     2.0     3.0     NaN     NaN   4.0     9.0  \n",
       "864861     2.0     3.0     NaN     NaN   NaN     9.0  \n",
       "864862     2.0     3.0     NaN     NaN   NaN     9.0  \n",
       "\n",
       "[864863 rows x 14 columns]"
      ]
     },
     "execution_count": 27,
     "metadata": {},
     "output_type": "execute_result"
    }
   ],
   "source": [
    "df"
   ]
  },
  {
   "cell_type": "markdown",
   "metadata": {},
   "source": [
    "### dropping the rows with null values"
   ]
  },
  {
   "cell_type": "code",
   "execution_count": 28,
   "metadata": {},
   "outputs": [],
   "source": [
    "df2=df.dropna(thresh=14) #dropping all rows with NaN values"
   ]
  },
  {
   "cell_type": "code",
   "execution_count": 29,
   "metadata": {},
   "outputs": [
    {
     "data": {
      "text/html": [
       "<div>\n",
       "<style scoped>\n",
       "    .dataframe tbody tr th:only-of-type {\n",
       "        vertical-align: middle;\n",
       "    }\n",
       "\n",
       "    .dataframe tbody tr th {\n",
       "        vertical-align: top;\n",
       "    }\n",
       "\n",
       "    .dataframe thead th {\n",
       "        text-align: right;\n",
       "    }\n",
       "</style>\n",
       "<table border=\"1\" class=\"dataframe\">\n",
       "  <thead>\n",
       "    <tr style=\"text-align: right;\">\n",
       "      <th></th>\n",
       "      <th>Cst_Cnt</th>\n",
       "      <th>Sta_ID</th>\n",
       "      <th>Depthm</th>\n",
       "      <th>T_degC</th>\n",
       "      <th>Salnty</th>\n",
       "      <th>O2ml_L</th>\n",
       "      <th>STheta</th>\n",
       "      <th>RecInd</th>\n",
       "      <th>T_prec</th>\n",
       "      <th>S_prec</th>\n",
       "      <th>P_qual</th>\n",
       "      <th>Chlqua</th>\n",
       "      <th>NH3q</th>\n",
       "      <th>C14A1q</th>\n",
       "    </tr>\n",
       "  </thead>\n",
       "  <tbody>\n",
       "    <tr>\n",
       "      <th>2160</th>\n",
       "      <td>71</td>\n",
       "      <td>162</td>\n",
       "      <td>0</td>\n",
       "      <td>10.30</td>\n",
       "      <td>33.030</td>\n",
       "      <td>5.90</td>\n",
       "      <td>25.364</td>\n",
       "      <td>3</td>\n",
       "      <td>1.0</td>\n",
       "      <td>2.0</td>\n",
       "      <td>9.0</td>\n",
       "      <td>9.0</td>\n",
       "      <td>9.0</td>\n",
       "      <td>9.0</td>\n",
       "    </tr>\n",
       "    <tr>\n",
       "      <th>2161</th>\n",
       "      <td>71</td>\n",
       "      <td>162</td>\n",
       "      <td>6</td>\n",
       "      <td>18.46</td>\n",
       "      <td>32.920</td>\n",
       "      <td>6.02</td>\n",
       "      <td>23.568</td>\n",
       "      <td>3</td>\n",
       "      <td>2.0</td>\n",
       "      <td>2.0</td>\n",
       "      <td>9.0</td>\n",
       "      <td>9.0</td>\n",
       "      <td>9.0</td>\n",
       "      <td>9.0</td>\n",
       "    </tr>\n",
       "    <tr>\n",
       "      <th>2162</th>\n",
       "      <td>71</td>\n",
       "      <td>162</td>\n",
       "      <td>10</td>\n",
       "      <td>10.29</td>\n",
       "      <td>32.951</td>\n",
       "      <td>6.04</td>\n",
       "      <td>25.304</td>\n",
       "      <td>7</td>\n",
       "      <td>2.0</td>\n",
       "      <td>3.0</td>\n",
       "      <td>9.0</td>\n",
       "      <td>9.0</td>\n",
       "      <td>9.0</td>\n",
       "      <td>9.0</td>\n",
       "    </tr>\n",
       "    <tr>\n",
       "      <th>2163</th>\n",
       "      <td>71</td>\n",
       "      <td>162</td>\n",
       "      <td>15</td>\n",
       "      <td>10.29</td>\n",
       "      <td>32.990</td>\n",
       "      <td>6.06</td>\n",
       "      <td>25.335</td>\n",
       "      <td>3</td>\n",
       "      <td>2.0</td>\n",
       "      <td>2.0</td>\n",
       "      <td>9.0</td>\n",
       "      <td>9.0</td>\n",
       "      <td>9.0</td>\n",
       "      <td>9.0</td>\n",
       "    </tr>\n",
       "    <tr>\n",
       "      <th>2164</th>\n",
       "      <td>71</td>\n",
       "      <td>162</td>\n",
       "      <td>20</td>\n",
       "      <td>10.33</td>\n",
       "      <td>33.005</td>\n",
       "      <td>6.04</td>\n",
       "      <td>25.339</td>\n",
       "      <td>7</td>\n",
       "      <td>2.0</td>\n",
       "      <td>3.0</td>\n",
       "      <td>9.0</td>\n",
       "      <td>9.0</td>\n",
       "      <td>9.0</td>\n",
       "      <td>9.0</td>\n",
       "    </tr>\n",
       "    <tr>\n",
       "      <th>...</th>\n",
       "      <td>...</td>\n",
       "      <td>...</td>\n",
       "      <td>...</td>\n",
       "      <td>...</td>\n",
       "      <td>...</td>\n",
       "      <td>...</td>\n",
       "      <td>...</td>\n",
       "      <td>...</td>\n",
       "      <td>...</td>\n",
       "      <td>...</td>\n",
       "      <td>...</td>\n",
       "      <td>...</td>\n",
       "      <td>...</td>\n",
       "      <td>...</td>\n",
       "    </tr>\n",
       "    <tr>\n",
       "      <th>817823</th>\n",
       "      <td>32582</td>\n",
       "      <td>575</td>\n",
       "      <td>250</td>\n",
       "      <td>7.83</td>\n",
       "      <td>34.088</td>\n",
       "      <td>1.51</td>\n",
       "      <td>26.587</td>\n",
       "      <td>7</td>\n",
       "      <td>2.0</td>\n",
       "      <td>3.0</td>\n",
       "      <td>9.0</td>\n",
       "      <td>9.0</td>\n",
       "      <td>9.0</td>\n",
       "      <td>9.0</td>\n",
       "    </tr>\n",
       "    <tr>\n",
       "      <th>817825</th>\n",
       "      <td>32582</td>\n",
       "      <td>575</td>\n",
       "      <td>300</td>\n",
       "      <td>7.09</td>\n",
       "      <td>34.115</td>\n",
       "      <td>1.18</td>\n",
       "      <td>26.713</td>\n",
       "      <td>7</td>\n",
       "      <td>2.0</td>\n",
       "      <td>3.0</td>\n",
       "      <td>9.0</td>\n",
       "      <td>9.0</td>\n",
       "      <td>9.0</td>\n",
       "      <td>9.0</td>\n",
       "    </tr>\n",
       "    <tr>\n",
       "      <th>817828</th>\n",
       "      <td>32582</td>\n",
       "      <td>575</td>\n",
       "      <td>400</td>\n",
       "      <td>6.50</td>\n",
       "      <td>34.196</td>\n",
       "      <td>0.62</td>\n",
       "      <td>26.858</td>\n",
       "      <td>7</td>\n",
       "      <td>2.0</td>\n",
       "      <td>3.0</td>\n",
       "      <td>9.0</td>\n",
       "      <td>9.0</td>\n",
       "      <td>9.0</td>\n",
       "      <td>9.0</td>\n",
       "    </tr>\n",
       "    <tr>\n",
       "      <th>817830</th>\n",
       "      <td>32582</td>\n",
       "      <td>575</td>\n",
       "      <td>500</td>\n",
       "      <td>5.84</td>\n",
       "      <td>34.252</td>\n",
       "      <td>0.40</td>\n",
       "      <td>26.987</td>\n",
       "      <td>7</td>\n",
       "      <td>2.0</td>\n",
       "      <td>3.0</td>\n",
       "      <td>9.0</td>\n",
       "      <td>9.0</td>\n",
       "      <td>9.0</td>\n",
       "      <td>9.0</td>\n",
       "    </tr>\n",
       "    <tr>\n",
       "      <th>830772</th>\n",
       "      <td>33073</td>\n",
       "      <td>1324</td>\n",
       "      <td>0</td>\n",
       "      <td>18.05</td>\n",
       "      <td>33.586</td>\n",
       "      <td>6.40</td>\n",
       "      <td>24.178</td>\n",
       "      <td>7</td>\n",
       "      <td>2.0</td>\n",
       "      <td>3.0</td>\n",
       "      <td>9.0</td>\n",
       "      <td>9.0</td>\n",
       "      <td>9.0</td>\n",
       "      <td>9.0</td>\n",
       "    </tr>\n",
       "  </tbody>\n",
       "</table>\n",
       "<p>386376 rows × 14 columns</p>\n",
       "</div>"
      ],
      "text/plain": [
       "        Cst_Cnt  Sta_ID  Depthm  T_degC  Salnty  O2ml_L  STheta  RecInd  \\\n",
       "2160         71     162       0   10.30  33.030    5.90  25.364       3   \n",
       "2161         71     162       6   18.46  32.920    6.02  23.568       3   \n",
       "2162         71     162      10   10.29  32.951    6.04  25.304       7   \n",
       "2163         71     162      15   10.29  32.990    6.06  25.335       3   \n",
       "2164         71     162      20   10.33  33.005    6.04  25.339       7   \n",
       "...         ...     ...     ...     ...     ...     ...     ...     ...   \n",
       "817823    32582     575     250    7.83  34.088    1.51  26.587       7   \n",
       "817825    32582     575     300    7.09  34.115    1.18  26.713       7   \n",
       "817828    32582     575     400    6.50  34.196    0.62  26.858       7   \n",
       "817830    32582     575     500    5.84  34.252    0.40  26.987       7   \n",
       "830772    33073    1324       0   18.05  33.586    6.40  24.178       7   \n",
       "\n",
       "        T_prec  S_prec  P_qual  Chlqua  NH3q  C14A1q  \n",
       "2160       1.0     2.0     9.0     9.0   9.0     9.0  \n",
       "2161       2.0     2.0     9.0     9.0   9.0     9.0  \n",
       "2162       2.0     3.0     9.0     9.0   9.0     9.0  \n",
       "2163       2.0     2.0     9.0     9.0   9.0     9.0  \n",
       "2164       2.0     3.0     9.0     9.0   9.0     9.0  \n",
       "...        ...     ...     ...     ...   ...     ...  \n",
       "817823     2.0     3.0     9.0     9.0   9.0     9.0  \n",
       "817825     2.0     3.0     9.0     9.0   9.0     9.0  \n",
       "817828     2.0     3.0     9.0     9.0   9.0     9.0  \n",
       "817830     2.0     3.0     9.0     9.0   9.0     9.0  \n",
       "830772     2.0     3.0     9.0     9.0   9.0     9.0  \n",
       "\n",
       "[386376 rows x 14 columns]"
      ]
     },
     "execution_count": 29,
     "metadata": {},
     "output_type": "execute_result"
    }
   ],
   "source": [
    "df2"
   ]
  },
  {
   "cell_type": "markdown",
   "metadata": {},
   "source": [
    "# Train Test split"
   ]
  },
  {
   "cell_type": "code",
   "execution_count": 30,
   "metadata": {},
   "outputs": [],
   "source": [
    "x= df2.drop('Salnty',axis=1)\n",
    "y= df2['Salnty']\n",
    "\n",
    "from sklearn.model_selection import train_test_split\n",
    "\n",
    "x_train,x_test,y_train,y_test= train_test_split(x,y,test_size=.25,random_state=5)\n"
   ]
  },
  {
   "cell_type": "code",
   "execution_count": 31,
   "metadata": {},
   "outputs": [
    {
     "data": {
      "text/plain": [
       "(289782, 13)"
      ]
     },
     "execution_count": 31,
     "metadata": {},
     "output_type": "execute_result"
    }
   ],
   "source": [
    "x_train.shape"
   ]
  },
  {
   "cell_type": "code",
   "execution_count": 32,
   "metadata": {},
   "outputs": [
    {
     "data": {
      "text/plain": [
       "(96594, 13)"
      ]
     },
     "execution_count": 32,
     "metadata": {},
     "output_type": "execute_result"
    }
   ],
   "source": [
    "x_test.shape"
   ]
  },
  {
   "cell_type": "markdown",
   "metadata": {},
   "source": [
    "# Feature Scaling"
   ]
  },
  {
   "cell_type": "code",
   "execution_count": 35,
   "metadata": {},
   "outputs": [
    {
     "data": {
      "text/plain": [
       "array([[6.34264590e-01, 6.54006836e-01, 1.12689217e-01, ...,\n",
       "        0.00000000e+00, 0.00000000e+00, 0.00000000e+00],\n",
       "       [3.97248652e-02, 3.09532852e-01, 1.73051766e-01, ...,\n",
       "        0.00000000e+00, 0.00000000e+00, 0.00000000e+00],\n",
       "       [3.31252651e-01, 1.86099506e-01, 1.86880957e-04, ...,\n",
       "        0.00000000e+00, 0.00000000e+00, 0.00000000e+00],\n",
       "       ...,\n",
       "       [3.89461245e-01, 6.24762628e-01, 9.34404784e-02, ...,\n",
       "        0.00000000e+00, 0.00000000e+00, 0.00000000e+00],\n",
       "       [2.54439125e-01, 1.64830991e-01, 2.80321435e-02, ...,\n",
       "        0.00000000e+00, 0.00000000e+00, 0.00000000e+00],\n",
       "       [6.69656384e-03, 2.23699202e-01, 0.00000000e+00, ...,\n",
       "        0.00000000e+00, 0.00000000e+00, 0.00000000e+00]])"
      ]
     },
     "execution_count": 35,
     "metadata": {},
     "output_type": "execute_result"
    }
   ],
   "source": [
    "# data normalization with sklearn\n",
    "from sklearn.preprocessing import MinMaxScaler\n",
    "\n",
    "# fit scaler on training data\n",
    "norm = MinMaxScaler().fit(x_train)\n",
    "\n",
    "# transform training data\n",
    "x_train = norm.transform(x_train)\n",
    "\n",
    "# transform testing dataabs\n",
    "x_test = norm.transform(x_test)\n",
    "\n",
    "x_train\n",
    "x_test"
   ]
  },
  {
   "cell_type": "markdown",
   "metadata": {},
   "source": [
    "# Training the Models"
   ]
  },
  {
   "cell_type": "markdown",
   "metadata": {},
   "source": [
    "## 1. Linear Regression"
   ]
  },
  {
   "cell_type": "code",
   "execution_count": 254,
   "metadata": {},
   "outputs": [],
   "source": [
    "import sklearn\n",
    "from sklearn.linear_model import LinearRegression \n",
    "from sklearn.metrics import r2_score\n",
    "from sklearn import metrics\n",
    "import math\n",
    "from sklearn.metrics import mean_squared_error\n",
    "from sklearn.metrics import mean_absolute_error\n",
    "\n",
    "regressor_1 = LinearRegression(normalize=True)\n",
    "regressor_1.fit(x_train,y_train)\n",
    "y_pred_1 = regressor_1.predict(x_test)\n"
   ]
  },
  {
   "cell_type": "markdown",
   "metadata": {},
   "source": [
    "#### r2_score, MAE, MSE, RMSE"
   ]
  },
  {
   "cell_type": "code",
   "execution_count": 256,
   "metadata": {},
   "outputs": [
    {
     "data": {
      "text/plain": [
       "0.9508505380654608"
      ]
     },
     "execution_count": 256,
     "metadata": {},
     "output_type": "execute_result"
    }
   ],
   "source": [
    "r2_score_LR=r2_score(y_test,y_pred_1)\n",
    "r2_score_LR"
   ]
  },
  {
   "cell_type": "code",
   "execution_count": 257,
   "metadata": {},
   "outputs": [
    {
     "data": {
      "text/plain": [
       "0.010194830565404062"
      ]
     },
     "execution_count": 257,
     "metadata": {},
     "output_type": "execute_result"
    }
   ],
   "source": [
    "MSE_LR=np.mean((regressor_1.predict(x_test) - y_test) ** 2)\n",
    "MSE_LR"
   ]
  },
  {
   "cell_type": "code",
   "execution_count": 258,
   "metadata": {},
   "outputs": [
    {
     "data": {
      "text/plain": [
       "0.10096945362536168"
      ]
     },
     "execution_count": 258,
     "metadata": {},
     "output_type": "execute_result"
    }
   ],
   "source": [
    "RMSE_LR = math.sqrt(MSE_LR)\n",
    "RMSE_LR"
   ]
  },
  {
   "cell_type": "code",
   "execution_count": 259,
   "metadata": {},
   "outputs": [
    {
     "data": {
      "text/plain": [
       "0.06755557585955091"
      ]
     },
     "execution_count": 259,
     "metadata": {},
     "output_type": "execute_result"
    }
   ],
   "source": [
    "MAE_LR = mean_absolute_error(y_test, y_pred_1)\n",
    "MAE_LR"
   ]
  },
  {
   "cell_type": "markdown",
   "metadata": {},
   "source": [
    "## 2. Random Forest Regression"
   ]
  },
  {
   "cell_type": "code",
   "execution_count": 290,
   "metadata": {},
   "outputs": [],
   "source": [
    "from sklearn.ensemble import RandomForestRegressor\n",
    "\n",
    "regressor_2 = RandomForestRegressor( n_estimators = 150, random_state = 50,max_features=13,criterion='mse')\n",
    "regressor_2.fit(x_train,y_train)\n",
    "y_pred_2 = regressor_2.predict(x_test)"
   ]
  },
  {
   "cell_type": "markdown",
   "metadata": {},
   "source": [
    "#### r2_score, MAE, MSE, RMSE"
   ]
  },
  {
   "cell_type": "code",
   "execution_count": 291,
   "metadata": {},
   "outputs": [
    {
     "data": {
      "text/plain": [
       "0.9984805881915385"
      ]
     },
     "execution_count": 291,
     "metadata": {},
     "output_type": "execute_result"
    }
   ],
   "source": [
    "r2_score_RFR=r2_score(y_test,y_pred_2)\n",
    "\n",
    "r2_score_RFR"
   ]
  },
  {
   "cell_type": "code",
   "execution_count": 292,
   "metadata": {},
   "outputs": [
    {
     "data": {
      "text/plain": [
       "0.00031516410020866335"
      ]
     },
     "execution_count": 292,
     "metadata": {},
     "output_type": "execute_result"
    }
   ],
   "source": [
    "MSE_RFR= np.mean((regressor_2.predict(x_test) - y_test) ** 2)\n",
    "MSE_RFR"
   ]
  },
  {
   "cell_type": "code",
   "execution_count": 293,
   "metadata": {},
   "outputs": [
    {
     "data": {
      "text/plain": [
       "0.017752861747015982"
      ]
     },
     "execution_count": 293,
     "metadata": {},
     "output_type": "execute_result"
    }
   ],
   "source": [
    "RMSE_RFR = math.sqrt(MSE_RFR)\n",
    "RMSE_RFR "
   ]
  },
  {
   "cell_type": "code",
   "execution_count": 294,
   "metadata": {},
   "outputs": [
    {
     "data": {
      "text/plain": [
       "0.006602247896694698"
      ]
     },
     "execution_count": 294,
     "metadata": {},
     "output_type": "execute_result"
    }
   ],
   "source": [
    "MAE_RFR = mean_absolute_error(y_test, y_pred_2)\n",
    "MAE_RFR"
   ]
  },
  {
   "cell_type": "markdown",
   "metadata": {},
   "source": [
    "## 3. Decision Tree Regression"
   ]
  },
  {
   "cell_type": "code",
   "execution_count": 305,
   "metadata": {},
   "outputs": [],
   "source": [
    "from sklearn.tree import DecisionTreeRegressor \n",
    "  \n",
    "# create a regressor object\n",
    "regressor_3 = DecisionTreeRegressor(random_state = 100,criterion='mse',max_features=13) \n",
    "  \n",
    "# fit the regressor with X and Y data\n",
    "regressor_3.fit(x_train,y_train)\n",
    "y_pred_3 = regressor_3.predict(x_test)"
   ]
  },
  {
   "cell_type": "markdown",
   "metadata": {},
   "source": [
    "#### r2_score, MAE, MSE, RMSE"
   ]
  },
  {
   "cell_type": "code",
   "execution_count": 306,
   "metadata": {},
   "outputs": [
    {
     "data": {
      "text/plain": [
       "0.9954064629621727"
      ]
     },
     "execution_count": 306,
     "metadata": {},
     "output_type": "execute_result"
    }
   ],
   "source": [
    "r2_score_DTR=r2_score(y_test,y_pred_3)\n",
    "\n",
    "r2_score_DTR"
   ]
  },
  {
   "cell_type": "code",
   "execution_count": 307,
   "metadata": {},
   "outputs": [
    {
     "data": {
      "text/plain": [
       "0.0009528147400459523"
      ]
     },
     "execution_count": 307,
     "metadata": {},
     "output_type": "execute_result"
    }
   ],
   "source": [
    "MSE_DTR= np.mean((regressor_3.predict(x_test) - y_test) ** 2)\n",
    "MSE_DTR"
   ]
  },
  {
   "cell_type": "code",
   "execution_count": 308,
   "metadata": {},
   "outputs": [
    {
     "data": {
      "text/plain": [
       "0.030867697355746383"
      ]
     },
     "execution_count": 308,
     "metadata": {},
     "output_type": "execute_result"
    }
   ],
   "source": [
    "RMSE_DTR = math.sqrt(MSE_DTR)\n",
    "RMSE_DTR"
   ]
  },
  {
   "cell_type": "code",
   "execution_count": 309,
   "metadata": {},
   "outputs": [
    {
     "data": {
      "text/plain": [
       "0.013246257531523706"
      ]
     },
     "execution_count": 309,
     "metadata": {},
     "output_type": "execute_result"
    }
   ],
   "source": [
    "MAE_DTR = mean_absolute_error(y_test, y_pred_3)\n",
    "MAE_DTR"
   ]
  },
  {
   "cell_type": "markdown",
   "metadata": {},
   "source": [
    "## 4. Bayesian regression"
   ]
  },
  {
   "cell_type": "code",
   "execution_count": 330,
   "metadata": {},
   "outputs": [],
   "source": [
    "from sklearn.linear_model import BayesianRidge\n",
    "\n",
    "regressor_4 = BayesianRidge(n_iter=40,alpha_1=1e-01,\n",
    "    alpha_2=1e-01,\n",
    "    lambda_1=1e-01,\n",
    "    lambda_2=1e-01)\n",
    "regressor_4.fit(x_train, y_train)\n",
    "\n",
    "y_pred_4 = regressor_4 .predict(x_test)"
   ]
  },
  {
   "cell_type": "markdown",
   "metadata": {},
   "source": [
    "#### r2_score, MAE, MSE, RMSE"
   ]
  },
  {
   "cell_type": "code",
   "execution_count": 331,
   "metadata": {},
   "outputs": [
    {
     "data": {
      "text/plain": [
       "0.9508505503376731"
      ]
     },
     "execution_count": 331,
     "metadata": {},
     "output_type": "execute_result"
    }
   ],
   "source": [
    "r2_score_BR=r2_score(y_test,y_pred_4)\n",
    "\n",
    "r2_score_BR"
   ]
  },
  {
   "cell_type": "code",
   "execution_count": 332,
   "metadata": {},
   "outputs": [
    {
     "data": {
      "text/plain": [
       "0.010194828019839494"
      ]
     },
     "execution_count": 332,
     "metadata": {},
     "output_type": "execute_result"
    }
   ],
   "source": [
    "MSE_BR= np.mean((regressor_4.predict(x_test) - y_test) ** 2)\n",
    "MSE_BR"
   ]
  },
  {
   "cell_type": "code",
   "execution_count": 333,
   "metadata": {},
   "outputs": [
    {
     "data": {
      "text/plain": [
       "0.10096944101974366"
      ]
     },
     "execution_count": 333,
     "metadata": {},
     "output_type": "execute_result"
    }
   ],
   "source": [
    "RMSE_BR = math.sqrt(MSE_BR)\n",
    "RMSE_BR"
   ]
  },
  {
   "cell_type": "code",
   "execution_count": 334,
   "metadata": {},
   "outputs": [
    {
     "data": {
      "text/plain": [
       "0.06755556958280429"
      ]
     },
     "execution_count": 334,
     "metadata": {},
     "output_type": "execute_result"
    }
   ],
   "source": [
    "MAE_BR = mean_absolute_error(y_test, y_pred_4)\n",
    "MAE_BR"
   ]
  },
  {
   "cell_type": "markdown",
   "metadata": {},
   "source": [
    "## 5. Neural Network Regression"
   ]
  },
  {
   "cell_type": "code",
   "execution_count": 234,
   "metadata": {},
   "outputs": [],
   "source": [
    "from keras.models import Sequential\n",
    "from keras.layers import Dense\n",
    "from keras.wrappers.scikit_learn import KerasRegressor\n",
    "\n",
    "from keras.models import Sequential\n",
    "from keras.layers import Dense\n",
    "from keras.wrappers.scikit_learn import KerasRegressor\n",
    "from sklearn.model_selection import cross_val_score\n",
    "from sklearn.model_selection import KFold\n",
    "\n",
    "from sklearn.metrics import mean_absolute_error\n",
    "from sklearn.metrics import mean_squared_error\n",
    "from sklearn.model_selection import train_test_split\n",
    "from sklearn.preprocessing import MinMaxScaler"
   ]
  },
  {
   "cell_type": "code",
   "execution_count": 340,
   "metadata": {},
   "outputs": [],
   "source": [
    "regressor_5 = Sequential()\n",
    "regressor_5.add(Dense(20, input_dim=13, activation='relu'))\n",
    "#regressor_5.add(Dense(5, activation='relu'))\n",
    "#regressor_5.add(Dense(5, activation='relu'))\n",
    "regressor_5.add(Dense(1, activation='linear'))"
   ]
  },
  {
   "cell_type": "code",
   "execution_count": 341,
   "metadata": {},
   "outputs": [],
   "source": [
    "# compile the keras model\n",
    "regressor_5.compile(optimizer = 'adam', loss = 'mean_squared_error',metrics=['mae','mse','mape'])"
   ]
  },
  {
   "cell_type": "code",
   "execution_count": 342,
   "metadata": {},
   "outputs": [
    {
     "name": "stdout",
     "output_type": "stream",
     "text": [
      "Epoch 1/100\n",
      "290/290 [==============================] - 2s 592us/step - loss: 1018.1284 - mae: 31.8051 - mse: 1018.1284 - mape: 93.6154\n",
      "Epoch 2/100\n",
      "290/290 [==============================] - 0s 585us/step - loss: 323.9059 - mae: 17.2940 - mse: 323.9059 - mape: 50.9030\n",
      "Epoch 3/100\n",
      "290/290 [==============================] - 0s 585us/step - loss: 43.8830 - mae: 5.1447 - mse: 43.8830 - mape: 15.1522\n",
      "Epoch 4/100\n",
      "290/290 [==============================] - 0s 585us/step - loss: 25.2167 - mae: 4.2814 - mse: 25.2167 - mape: 12.6112\n",
      "Epoch 5/100\n",
      "290/290 [==============================] - 0s 585us/step - loss: 18.1187 - mae: 3.5970 - mse: 18.1187 - mape: 10.5950\n",
      "Epoch 6/100\n",
      "290/290 [==============================] - 0s 592us/step - loss: 12.5037 - mae: 2.9359 - mse: 12.5037 - mape: 8.6472\n",
      "Epoch 7/100\n",
      "290/290 [==============================] - 0s 585us/step - loss: 8.4352 - mae: 2.3605 - mse: 8.4352 - mape: 6.9512\n",
      "Epoch 8/100\n",
      "290/290 [==============================] - 0s 589us/step - loss: 5.3870 - mae: 1.8281 - mse: 5.3870 - mape: 5.3819\n",
      "Epoch 9/100\n",
      "290/290 [==============================] - 0s 585us/step - loss: 2.3315 - mae: 1.1452 - mse: 2.3315 - mape: 3.3705\n",
      "Epoch 10/100\n",
      "290/290 [==============================] - 0s 592us/step - loss: 1.1053 - mae: 0.7384 - mse: 1.1053 - mape: 2.1729\n",
      "Epoch 11/100\n",
      "290/290 [==============================] - 0s 599us/step - loss: 0.6437 - mae: 0.5170 - mse: 0.6437 - mape: 1.5203\n",
      "Epoch 12/100\n",
      "290/290 [==============================] - 0s 596us/step - loss: 0.4093 - mae: 0.3784 - mse: 0.4093 - mape: 1.1124\n",
      "Epoch 13/100\n",
      "290/290 [==============================] - 0s 589us/step - loss: 0.2739 - mae: 0.2828 - mse: 0.2739 - mape: 0.8313\n",
      "Epoch 14/100\n",
      "290/290 [==============================] - 0s 596us/step - loss: 0.1885 - mae: 0.2117 - mse: 0.1885 - mape: 0.6224\n",
      "Epoch 15/100\n",
      "290/290 [==============================] - 0s 596us/step - loss: 0.1313 - mae: 0.1593 - mse: 0.1313 - mape: 0.4685\n",
      "Epoch 16/100\n",
      "290/290 [==============================] - 0s 613us/step - loss: 0.0938 - mae: 0.1262 - mse: 0.0938 - mape: 0.3709\n",
      "Epoch 17/100\n",
      "290/290 [==============================] - 0s 592us/step - loss: 0.0708 - mae: 0.1093 - mse: 0.0708 - mape: 0.3210\n",
      "Epoch 18/100\n",
      "290/290 [==============================] - 0s 589us/step - loss: 0.0558 - mae: 0.1010 - mse: 0.0558 - mape: 0.2963\n",
      "Epoch 19/100\n",
      "290/290 [==============================] - 0s 589us/step - loss: 0.0454 - mae: 0.0982 - mse: 0.0454 - mape: 0.2878\n",
      "Epoch 20/100\n",
      "290/290 [==============================] - 0s 582us/step - loss: 0.0357 - mae: 0.0939 - mse: 0.0357 - mape: 0.2753\n",
      "Epoch 21/100\n",
      "290/290 [==============================] - 0s 585us/step - loss: 0.0305 - mae: 0.0918 - mse: 0.0305 - mape: 0.2691\n",
      "Epoch 22/100\n",
      "290/290 [==============================] - 0s 616us/step - loss: 0.0241 - mae: 0.0881 - mse: 0.0241 - mape: 0.2583\n",
      "Epoch 23/100\n",
      "290/290 [==============================] - 0s 596us/step - loss: 0.0211 - mae: 0.0860 - mse: 0.0211 - mape: 0.2520\n",
      "Epoch 24/100\n",
      "290/290 [==============================] - 0s 596us/step - loss: 0.0202 - mae: 0.0837 - mse: 0.0202 - mape: 0.2451\n",
      "Epoch 25/100\n",
      "290/290 [==============================] - 0s 599us/step - loss: 0.0169 - mae: 0.0807 - mse: 0.0169 - mape: 0.2366\n",
      "Epoch 26/100\n",
      "290/290 [==============================] - 0s 599us/step - loss: 0.0158 - mae: 0.0789 - mse: 0.0158 - mape: 0.2311\n",
      "Epoch 27/100\n",
      "290/290 [==============================] - 0s 592us/step - loss: 0.0154 - mae: 0.0766 - mse: 0.0154 - mape: 0.2243\n",
      "Epoch 28/100\n",
      "290/290 [==============================] - 0s 596us/step - loss: 0.0141 - mae: 0.0754 - mse: 0.0141 - mape: 0.2207\n",
      "Epoch 29/100\n",
      "290/290 [==============================] - 0s 589us/step - loss: 0.0135 - mae: 0.0740 - mse: 0.0135 - mape: 0.2167\n",
      "Epoch 30/100\n",
      "290/290 [==============================] - 0s 589us/step - loss: 0.0137 - mae: 0.0726 - mse: 0.0137 - mape: 0.2127\n",
      "Epoch 31/100\n",
      "290/290 [==============================] - 0s 589us/step - loss: 0.0130 - mae: 0.0717 - mse: 0.0130 - mape: 0.2100\n",
      "Epoch 32/100\n",
      "290/290 [==============================] - 0s 589us/step - loss: 0.0122 - mae: 0.0704 - mse: 0.0122 - mape: 0.2063\n",
      "Epoch 33/100\n",
      "290/290 [==============================] - 0s 575us/step - loss: 0.0124 - mae: 0.0696 - mse: 0.0124 - mape: 0.2039\n",
      "Epoch 34/100\n",
      "290/290 [==============================] - 0s 578us/step - loss: 0.0122 - mae: 0.0695 - mse: 0.0122 - mape: 0.2035\n",
      "Epoch 35/100\n",
      "290/290 [==============================] - 0s 596us/step - loss: 0.0115 - mae: 0.0685 - mse: 0.0115 - mape: 0.2008\n",
      "Epoch 36/100\n",
      "290/290 [==============================] - 0s 592us/step - loss: 0.0108 - mae: 0.0678 - mse: 0.0108 - mape: 0.1986\n",
      "Epoch 37/100\n",
      "290/290 [==============================] - 0s 589us/step - loss: 0.0106 - mae: 0.0673 - mse: 0.0106 - mape: 0.1971\n",
      "Epoch 38/100\n",
      "290/290 [==============================] - 0s 582us/step - loss: 0.0113 - mae: 0.0665 - mse: 0.0113 - mape: 0.1950\n",
      "Epoch 39/100\n",
      "290/290 [==============================] - 0s 585us/step - loss: 0.0106 - mae: 0.0656 - mse: 0.0106 - mape: 0.1923\n",
      "Epoch 40/100\n",
      "290/290 [==============================] - 0s 582us/step - loss: 0.0101 - mae: 0.0650 - mse: 0.0101 - mape: 0.1905\n",
      "Epoch 41/100\n",
      "290/290 [==============================] - 0s 592us/step - loss: 0.0094 - mae: 0.0634 - mse: 0.0094 - mape: 0.1860\n",
      "Epoch 42/100\n",
      "290/290 [==============================] - 0s 585us/step - loss: 0.0110 - mae: 0.0617 - mse: 0.0110 - mape: 0.1811\n",
      "Epoch 43/100\n",
      "290/290 [==============================] - 0s 582us/step - loss: 0.0082 - mae: 0.0590 - mse: 0.0082 - mape: 0.1733\n",
      "Epoch 44/100\n",
      "290/290 [==============================] - 0s 582us/step - loss: 0.0075 - mae: 0.0565 - mse: 0.0075 - mape: 0.1660\n",
      "Epoch 45/100\n",
      "290/290 [==============================] - 0s 582us/step - loss: 0.0084 - mae: 0.0549 - mse: 0.0084 - mape: 0.1613\n",
      "Epoch 46/100\n",
      "290/290 [==============================] - 0s 582us/step - loss: 0.0065 - mae: 0.0529 - mse: 0.0065 - mape: 0.1555\n",
      "Epoch 47/100\n",
      "290/290 [==============================] - 0s 596us/step - loss: 0.0065 - mae: 0.0517 - mse: 0.0065 - mape: 0.1521\n",
      "Epoch 48/100\n",
      "290/290 [==============================] - 0s 585us/step - loss: 0.0065 - mae: 0.0510 - mse: 0.0065 - mape: 0.1500\n",
      "Epoch 49/100\n",
      "290/290 [==============================] - 0s 585us/step - loss: 0.0072 - mae: 0.0503 - mse: 0.0072 - mape: 0.1479\n",
      "Epoch 50/100\n",
      "290/290 [==============================] - 0s 589us/step - loss: 0.0060 - mae: 0.0501 - mse: 0.0060 - mape: 0.1473\n",
      "Epoch 51/100\n",
      "290/290 [==============================] - 0s 592us/step - loss: 0.0060 - mae: 0.0497 - mse: 0.0060 - mape: 0.1462\n",
      "Epoch 52/100\n",
      "290/290 [==============================] - 0s 585us/step - loss: 0.0069 - mae: 0.0496 - mse: 0.0069 - mape: 0.1459\n",
      "Epoch 53/100\n",
      "290/290 [==============================] - 0s 585us/step - loss: 0.0065 - mae: 0.0495 - mse: 0.0065 - mape: 0.1458\n",
      "Epoch 54/100\n",
      "290/290 [==============================] - 0s 589us/step - loss: 0.0062 - mae: 0.0491 - mse: 0.0062 - mape: 0.1446\n",
      "Epoch 55/100\n",
      "290/290 [==============================] - 0s 582us/step - loss: 0.0063 - mae: 0.0489 - mse: 0.0063 - mape: 0.1440\n",
      "Epoch 56/100\n",
      "290/290 [==============================] - 0s 589us/step - loss: 0.0059 - mae: 0.0491 - mse: 0.0059 - mape: 0.1444\n",
      "Epoch 57/100\n",
      "290/290 [==============================] - 0s 589us/step - loss: 0.0069 - mae: 0.0491 - mse: 0.0069 - mape: 0.1445\n",
      "Epoch 58/100\n",
      "290/290 [==============================] - 0s 589us/step - loss: 0.0058 - mae: 0.0488 - mse: 0.0058 - mape: 0.1436\n",
      "Epoch 59/100\n",
      "290/290 [==============================] - 0s 589us/step - loss: 0.0067 - mae: 0.0482 - mse: 0.0067 - mape: 0.1420\n",
      "Epoch 60/100\n",
      "290/290 [==============================] - 0s 599us/step - loss: 0.0073 - mae: 0.0484 - mse: 0.0073 - mape: 0.1425\n",
      "Epoch 61/100\n",
      "290/290 [==============================] - 0s 582us/step - loss: 0.0066 - mae: 0.0483 - mse: 0.0066 - mape: 0.1423\n",
      "Epoch 62/100\n",
      "290/290 [==============================] - 0s 585us/step - loss: 0.0063 - mae: 0.0484 - mse: 0.0063 - mape: 0.1426\n",
      "Epoch 63/100\n",
      "290/290 [==============================] - 0s 585us/step - loss: 0.0057 - mae: 0.0479 - mse: 0.0057 - mape: 0.1411\n",
      "Epoch 64/100\n",
      "290/290 [==============================] - 0s 585us/step - loss: 0.0058 - mae: 0.0483 - mse: 0.0058 - mape: 0.1423\n",
      "Epoch 65/100\n",
      "290/290 [==============================] - 0s 582us/step - loss: 0.0057 - mae: 0.0485 - mse: 0.0057 - mape: 0.1429\n",
      "Epoch 66/100\n",
      "290/290 [==============================] - 0s 589us/step - loss: 0.0054 - mae: 0.0476 - mse: 0.0054 - mape: 0.1402\n",
      "Epoch 67/100\n",
      "290/290 [==============================] - 0s 578us/step - loss: 0.0065 - mae: 0.0480 - mse: 0.0065 - mape: 0.1414\n",
      "Epoch 68/100\n",
      "290/290 [==============================] - 0s 578us/step - loss: 0.0056 - mae: 0.0478 - mse: 0.0056 - mape: 0.1408\n",
      "Epoch 69/100\n",
      "290/290 [==============================] - 0s 589us/step - loss: 0.0059 - mae: 0.0477 - mse: 0.0059 - mape: 0.1406\n",
      "Epoch 70/100\n",
      "290/290 [==============================] - 0s 585us/step - loss: 0.0058 - mae: 0.0480 - mse: 0.0058 - mape: 0.1415\n",
      "Epoch 71/100\n",
      "290/290 [==============================] - 0s 585us/step - loss: 0.0055 - mae: 0.0477 - mse: 0.0055 - mape: 0.1406\n",
      "Epoch 72/100\n",
      "290/290 [==============================] - 0s 585us/step - loss: 0.0056 - mae: 0.0482 - mse: 0.0056 - mape: 0.1419\n",
      "Epoch 73/100\n",
      "290/290 [==============================] - 0s 589us/step - loss: 0.0054 - mae: 0.0476 - mse: 0.0054 - mape: 0.1403\n",
      "Epoch 74/100\n",
      "290/290 [==============================] - 0s 582us/step - loss: 0.0055 - mae: 0.0475 - mse: 0.0055 - mape: 0.1398\n",
      "Epoch 75/100\n",
      "290/290 [==============================] - 0s 582us/step - loss: 0.0063 - mae: 0.0481 - mse: 0.0063 - mape: 0.1417\n",
      "Epoch 76/100\n",
      "290/290 [==============================] - 0s 589us/step - loss: 0.0070 - mae: 0.0481 - mse: 0.0070 - mape: 0.1416\n",
      "Epoch 77/100\n",
      "290/290 [==============================] - 0s 582us/step - loss: 0.0061 - mae: 0.0477 - mse: 0.0061 - mape: 0.1404\n",
      "Epoch 78/100\n",
      "290/290 [==============================] - 0s 589us/step - loss: 0.0075 - mae: 0.0480 - mse: 0.0075 - mape: 0.1415\n",
      "Epoch 79/100\n",
      "290/290 [==============================] - 0s 585us/step - loss: 0.0064 - mae: 0.0481 - mse: 0.0064 - mape: 0.1418\n",
      "Epoch 80/100\n",
      "290/290 [==============================] - 0s 585us/step - loss: 0.0066 - mae: 0.0479 - mse: 0.0066 - mape: 0.1411\n",
      "Epoch 81/100\n",
      "290/290 [==============================] - 0s 578us/step - loss: 0.0055 - mae: 0.0479 - mse: 0.0055 - mape: 0.1410\n",
      "Epoch 82/100\n",
      "290/290 [==============================] - 0s 582us/step - loss: 0.0065 - mae: 0.0477 - mse: 0.0065 - mape: 0.1405\n",
      "Epoch 83/100\n",
      "290/290 [==============================] - 0s 575us/step - loss: 0.0057 - mae: 0.0479 - mse: 0.0057 - mape: 0.1411\n",
      "Epoch 84/100\n",
      "290/290 [==============================] - 0s 585us/step - loss: 0.0062 - mae: 0.0480 - mse: 0.0062 - mape: 0.1413\n",
      "Epoch 85/100\n",
      "290/290 [==============================] - 0s 585us/step - loss: 0.0059 - mae: 0.0476 - mse: 0.0059 - mape: 0.1403\n",
      "Epoch 86/100\n",
      "290/290 [==============================] - 0s 585us/step - loss: 0.0060 - mae: 0.0477 - mse: 0.0060 - mape: 0.1406\n",
      "Epoch 87/100\n",
      "290/290 [==============================] - 0s 575us/step - loss: 0.0055 - mae: 0.0476 - mse: 0.0055 - mape: 0.1401\n",
      "Epoch 88/100\n",
      "290/290 [==============================] - 0s 592us/step - loss: 0.0061 - mae: 0.0480 - mse: 0.0061 - mape: 0.1413\n",
      "Epoch 89/100\n",
      "290/290 [==============================] - 0s 582us/step - loss: 0.0062 - mae: 0.0477 - mse: 0.0062 - mape: 0.1405\n",
      "Epoch 90/100\n",
      "290/290 [==============================] - 0s 582us/step - loss: 0.0055 - mae: 0.0477 - mse: 0.0055 - mape: 0.1405\n",
      "Epoch 91/100\n",
      "290/290 [==============================] - 0s 585us/step - loss: 0.0071 - mae: 0.0477 - mse: 0.0071 - mape: 0.1405\n",
      "Epoch 92/100\n",
      "290/290 [==============================] - 0s 578us/step - loss: 0.0057 - mae: 0.0478 - mse: 0.0057 - mape: 0.1409\n",
      "Epoch 93/100\n",
      "290/290 [==============================] - 0s 578us/step - loss: 0.0057 - mae: 0.0477 - mse: 0.0057 - mape: 0.1406\n",
      "Epoch 94/100\n",
      "290/290 [==============================] - 0s 582us/step - loss: 0.0056 - mae: 0.0476 - mse: 0.0056 - mape: 0.1401\n",
      "Epoch 95/100\n",
      "290/290 [==============================] - 0s 582us/step - loss: 0.0065 - mae: 0.0479 - mse: 0.0065 - mape: 0.1411\n",
      "Epoch 96/100\n",
      "290/290 [==============================] - 0s 578us/step - loss: 0.0062 - mae: 0.0476 - mse: 0.0062 - mape: 0.1403\n",
      "Epoch 97/100\n",
      "290/290 [==============================] - 0s 582us/step - loss: 0.0057 - mae: 0.0474 - mse: 0.0057 - mape: 0.1397\n",
      "Epoch 98/100\n",
      "290/290 [==============================] - 0s 582us/step - loss: 0.0057 - mae: 0.0473 - mse: 0.0057 - mape: 0.1394\n",
      "Epoch 99/100\n",
      "290/290 [==============================] - 0s 582us/step - loss: 0.0054 - mae: 0.0474 - mse: 0.0054 - mape: 0.1395\n",
      "Epoch 100/100\n",
      "290/290 [==============================] - 0s 575us/step - loss: 0.0060 - mae: 0.0475 - mse: 0.0060 - mape: 0.1400\n",
      "3019/3019 [==============================] - 1s 360us/step - loss: 0.0055 - mae: 0.0470 - mse: 0.0055 - mape: 0.1385\n"
     ]
    }
   ],
   "source": [
    "# fit the keras model on the dataset\n",
    "history=regressor_5.fit(x_train, y_train ,batch_size = 1000, epochs = 100)\n",
    "test_loss = regressor_5.evaluate(x_test,y_test)"
   ]
  },
  {
   "cell_type": "markdown",
   "metadata": {},
   "source": [
    "#### r2_score, MAE, MSE, RMSE"
   ]
  },
  {
   "cell_type": "code",
   "execution_count": 343,
   "metadata": {},
   "outputs": [
    {
     "data": {
      "text/plain": [
       "[0.005472843069583178,\n",
       " 0.04703519865870476,\n",
       " 0.005472843069583178,\n",
       " 0.13853444159030914]"
      ]
     },
     "execution_count": 343,
     "metadata": {},
     "output_type": "execute_result"
    }
   ],
   "source": [
    "test_loss"
   ]
  },
  {
   "cell_type": "markdown",
   "metadata": {},
   "source": [
    "# Comparative Study"
   ]
  },
  {
   "attachments": {
    "Screenshot%20%28173%29.png": {
     "image/png": "[encoded data removed]"
    }
   },
   "cell_type": "markdown",
   "metadata": {},
   "source": [
    "![Screenshot%20%28173%29.png](attachment:Screenshot%20%28173%29.png)"
   ]
  },
  {
   "cell_type": "markdown",
   "metadata": {},
   "source": [
    "# Observation"
   ]
  },
  {
   "cell_type": "markdown",
   "metadata": {},
   "source": [
    "from the overall comparison of the models above, we can say that Random forest regression and Neural Network regression gave the result with lesser error than others"
   ]
  },
  {
   "cell_type": "code",
   "execution_count": null,
   "metadata": {},
   "outputs": [],
   "source": []
  }
 ],
 "metadata": {
  "kernelspec": {
   "display_name": "Python 3",
   "language": "python",
   "name": "python3"
  },
  "language_info": {
   "codemirror_mode": {
    "name": "ipython",
    "version": 3
   },
   "file_extension": ".py",
   "mimetype": "text/x-python",
   "name": "python",
   "nbconvert_exporter": "python",
   "pygments_lexer": "ipython3",
   "version": "3.8.5"
  }
 },
 "nbformat": 4,
 "nbformat_minor": 4
}
